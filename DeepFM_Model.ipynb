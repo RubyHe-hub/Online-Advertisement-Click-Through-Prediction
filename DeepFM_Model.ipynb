{
  "nbformat": 4,
  "nbformat_minor": 0,
  "metadata": {
    "colab": {
      "name": "DeepFM Model.ipynb",
      "provenance": []
    },
    "kernelspec": {
      "name": "python3",
      "display_name": "Python 3"
    }
  },
  "cells": [
    {
      "cell_type": "code",
      "metadata": {
        "id": "FBjm-PTaMZPr",
        "colab_type": "code",
        "colab": {
          "base_uri": "https://localhost:8080/",
          "height": 34
        },
        "outputId": "6c324ca6-eac5-4698-8e2e-25a81d13b8d5"
      },
      "source": [
        "!pip install --no-warn-conflicts -q deepctr==0.7.5"
      ],
      "execution_count": 1,
      "outputs": [
        {
          "output_type": "stream",
          "text": [
            "\u001b[?25l\r\u001b[K     |████                            | 10kB 29.0MB/s eta 0:00:01\r\u001b[K     |████████                        | 20kB 2.2MB/s eta 0:00:01\r\u001b[K     |████████████                    | 30kB 2.9MB/s eta 0:00:01\r\u001b[K     |████████████████                | 40kB 3.1MB/s eta 0:00:01\r\u001b[K     |████████████████████            | 51kB 2.6MB/s eta 0:00:01\r\u001b[K     |████████████████████████        | 61kB 2.8MB/s eta 0:00:01\r\u001b[K     |████████████████████████████    | 71kB 3.1MB/s eta 0:00:01\r\u001b[K     |████████████████████████████████| 81kB 3.4MB/s eta 0:00:01\r\u001b[K     |████████████████████████████████| 92kB 3.0MB/s \n",
            "\u001b[?25h"
          ],
          "name": "stdout"
        }
      ]
    },
    {
      "cell_type": "code",
      "metadata": {
        "id": "bAJtfKj3M99h",
        "colab_type": "code",
        "colab": {}
      },
      "source": [
        "from google.colab import (files,drive)\n",
        "import os\n",
        "from sklearn.metrics import log_loss, roc_auc_score\n",
        "from sklearn.model_selection import StratifiedKFold\n",
        "from sklearn.preprocessing import LabelEncoder\n",
        "from tensorflow.keras.models import Model, load_model\n",
        "from deepctr.models import DIN, DeepFM\n",
        "from deepctr.inputs import SparseFeat,VarLenSparseFeat,DenseFeat,get_feature_names\n",
        "from tensorflow.keras.callbacks import ModelCheckpoint, LearningRateScheduler, Callback\n",
        "from sklearn.preprocessing import OrdinalEncoder, LabelEncoder, OneHotEncoder\n",
        "from tensorflow.keras.utils import get_custom_objects\n",
        "from tensorflow.keras.optimizers import Adam,RMSprop\n",
        "from tensorflow.keras.layers import Activation\n",
        "from tensorflow.keras import backend as K\n",
        "from tensorflow.keras import callbacks\n",
        "from tensorflow.keras import utils\n",
        "import tensorflow.keras as keras\n",
        "import tensorflow as tf\n",
        "import pandas as pd\n",
        "import numpy as np\n",
        "import warnings\n",
        "import pandas_profiling \n",
        "from sklearn.metrics import log_loss, roc_auc_score\n",
        "from sklearn.model_selection import train_test_split\n",
        "from sklearn.preprocessing import MinMaxScaler\n",
        "warnings.simplefilter('ignore')"
      ],
      "execution_count": 0,
      "outputs": []
    },
    {
      "cell_type": "code",
      "metadata": {
        "id": "7IFPW2G3M_oh",
        "colab_type": "code",
        "colab": {
          "base_uri": "https://localhost:8080/",
          "height": 122
        },
        "outputId": "1644fc85-6572-4e33-dd1b-455174886e03"
      },
      "source": [
        "drive.mount('/content/gdrive', force_remount=True)\n",
        "path = \"/content/gdrive/\"\n",
        "os.chdir(path)"
      ],
      "execution_count": 3,
      "outputs": [
        {
          "output_type": "stream",
          "text": [
            "Go to this URL in a browser: https://accounts.google.com/o/oauth2/auth?client_id=947318989803-6bn6qk8qdgf4n4g3pfee6491hc0brc4i.apps.googleusercontent.com&redirect_uri=urn%3aietf%3awg%3aoauth%3a2.0%3aoob&response_type=code&scope=email%20https%3a%2f%2fwww.googleapis.com%2fauth%2fdocs.test%20https%3a%2f%2fwww.googleapis.com%2fauth%2fdrive%20https%3a%2f%2fwww.googleapis.com%2fauth%2fdrive.photos.readonly%20https%3a%2f%2fwww.googleapis.com%2fauth%2fpeopleapi.readonly\n",
            "\n",
            "Enter your authorization code:\n",
            "··········\n",
            "Mounted at /content/gdrive\n"
          ],
          "name": "stdout"
        }
      ]
    },
    {
      "cell_type": "code",
      "metadata": {
        "id": "qejRp5knNGIf",
        "colab_type": "code",
        "colab": {}
      },
      "source": [
        "#The original data consists of four tables with raw_sample, ad_features, user_profiles and user_behaviors. We joined the all tables on big query and selected part of data for samples\n",
        "data_0 = pd.read_csv('My Drive/BAX423+453 Five Guys/BAX423 BIG DATA/Final Project/Data/merge_data/merge_data_10k_0.csv')\n",
        "data_1 = pd.read_csv('My Drive/BAX423+453 Five Guys/BAX423 BIG DATA/Final Project/Data/merge_data/merge_data_10k_1.csv')\n",
        "data_2 = pd.read_csv('My Drive/BAX423+453 Five Guys/BAX423 BIG DATA/Final Project/Data/merge_data/merge_data_10k_2.csv')\n",
        "data_3 = pd.read_csv('My Drive/BAX423+453 Five Guys/BAX423 BIG DATA/Final Project/Data/merge_data/merge_data_10k_3.csv')\n",
        "data_4 = pd.read_csv('My Drive/BAX423+453 Five Guys/BAX423 BIG DATA/Final Project/Data/merge_data/merge_data_10k_4.csv')"
      ],
      "execution_count": 0,
      "outputs": []
    },
    {
      "cell_type": "code",
      "metadata": {
        "id": "tL9WebX1NGQe",
        "colab_type": "code",
        "colab": {}
      },
      "source": [
        "data = pd.concat([data_0,data_1,data_2,data_3,data_4], ignore_index=True, sort=False)"
      ],
      "execution_count": 0,
      "outputs": []
    },
    {
      "cell_type": "code",
      "metadata": {
        "id": "k-vtqAwSNGSm",
        "colab_type": "code",
        "colab": {
          "base_uri": "https://localhost:8080/",
          "height": 224
        },
        "outputId": "e4410c08-3a26-46df-ba98-79fd0d53046b"
      },
      "source": [
        "# drop overlaps with 'user' and useless variables\n",
        "final_df = data.drop(columns=['userid','cms_segid', 'cms_group_id', 'customer', 'ad_brand', 'nonclk','pid','ad_time_stamp'])\n",
        "final_df.head()"
      ],
      "execution_count": 6,
      "outputs": [
        {
          "output_type": "execute_result",
          "data": {
            "text/html": [
              "<div>\n",
              "<style scoped>\n",
              "    .dataframe tbody tr th:only-of-type {\n",
              "        vertical-align: middle;\n",
              "    }\n",
              "\n",
              "    .dataframe tbody tr th {\n",
              "        vertical-align: top;\n",
              "    }\n",
              "\n",
              "    .dataframe thead th {\n",
              "        text-align: right;\n",
              "    }\n",
              "</style>\n",
              "<table border=\"1\" class=\"dataframe\">\n",
              "  <thead>\n",
              "    <tr style=\"text-align: right;\">\n",
              "      <th></th>\n",
              "      <th>user</th>\n",
              "      <th>cate</th>\n",
              "      <th>btag</th>\n",
              "      <th>num</th>\n",
              "      <th>adgroup_id</th>\n",
              "      <th>final_gender_code</th>\n",
              "      <th>age_level</th>\n",
              "      <th>pvalue_level</th>\n",
              "      <th>shopping_level</th>\n",
              "      <th>occupation</th>\n",
              "      <th>new_user_class_level_</th>\n",
              "      <th>clk</th>\n",
              "      <th>ad_cate_id</th>\n",
              "      <th>campaign_id</th>\n",
              "      <th>price</th>\n",
              "    </tr>\n",
              "  </thead>\n",
              "  <tbody>\n",
              "    <tr>\n",
              "      <th>0</th>\n",
              "      <td>750820</td>\n",
              "      <td>6300</td>\n",
              "      <td>pv</td>\n",
              "      <td>3</td>\n",
              "      <td>383310</td>\n",
              "      <td>1</td>\n",
              "      <td>6</td>\n",
              "      <td>3.0</td>\n",
              "      <td>3</td>\n",
              "      <td>0</td>\n",
              "      <td>3.0</td>\n",
              "      <td>0</td>\n",
              "      <td>6261</td>\n",
              "      <td>289341</td>\n",
              "      <td>6599.0</td>\n",
              "    </tr>\n",
              "    <tr>\n",
              "      <th>1</th>\n",
              "      <td>301656</td>\n",
              "      <td>4609</td>\n",
              "      <td>pv</td>\n",
              "      <td>7</td>\n",
              "      <td>575898</td>\n",
              "      <td>1</td>\n",
              "      <td>6</td>\n",
              "      <td>2.0</td>\n",
              "      <td>3</td>\n",
              "      <td>0</td>\n",
              "      <td>3.0</td>\n",
              "      <td>0</td>\n",
              "      <td>6250</td>\n",
              "      <td>232372</td>\n",
              "      <td>78.0</td>\n",
              "    </tr>\n",
              "    <tr>\n",
              "      <th>2</th>\n",
              "      <td>750820</td>\n",
              "      <td>4521</td>\n",
              "      <td>pv</td>\n",
              "      <td>39</td>\n",
              "      <td>745756</td>\n",
              "      <td>1</td>\n",
              "      <td>6</td>\n",
              "      <td>3.0</td>\n",
              "      <td>3</td>\n",
              "      <td>0</td>\n",
              "      <td>3.0</td>\n",
              "      <td>0</td>\n",
              "      <td>6261</td>\n",
              "      <td>154448</td>\n",
              "      <td>665.0</td>\n",
              "    </tr>\n",
              "    <tr>\n",
              "      <th>3</th>\n",
              "      <td>750820</td>\n",
              "      <td>5957</td>\n",
              "      <td>pv</td>\n",
              "      <td>3</td>\n",
              "      <td>609938</td>\n",
              "      <td>1</td>\n",
              "      <td>6</td>\n",
              "      <td>3.0</td>\n",
              "      <td>3</td>\n",
              "      <td>0</td>\n",
              "      <td>3.0</td>\n",
              "      <td>0</td>\n",
              "      <td>6246</td>\n",
              "      <td>355648</td>\n",
              "      <td>128.0</td>\n",
              "    </tr>\n",
              "    <tr>\n",
              "      <th>4</th>\n",
              "      <td>750820</td>\n",
              "      <td>4281</td>\n",
              "      <td>pv</td>\n",
              "      <td>25</td>\n",
              "      <td>677651</td>\n",
              "      <td>1</td>\n",
              "      <td>6</td>\n",
              "      <td>3.0</td>\n",
              "      <td>3</td>\n",
              "      <td>0</td>\n",
              "      <td>3.0</td>\n",
              "      <td>0</td>\n",
              "      <td>6261</td>\n",
              "      <td>304098</td>\n",
              "      <td>1018.0</td>\n",
              "    </tr>\n",
              "  </tbody>\n",
              "</table>\n",
              "</div>"
            ],
            "text/plain": [
              "     user  cate btag  num  ...  clk  ad_cate_id  campaign_id   price\n",
              "0  750820  6300   pv    3  ...    0        6261       289341  6599.0\n",
              "1  301656  4609   pv    7  ...    0        6250       232372    78.0\n",
              "2  750820  4521   pv   39  ...    0        6261       154448   665.0\n",
              "3  750820  5957   pv    3  ...    0        6246       355648   128.0\n",
              "4  750820  4281   pv   25  ...    0        6261       304098  1018.0\n",
              "\n",
              "[5 rows x 15 columns]"
            ]
          },
          "metadata": {
            "tags": []
          },
          "execution_count": 6
        }
      ]
    },
    {
      "cell_type": "markdown",
      "metadata": {
        "id": "7K50p0aHNWD5",
        "colab_type": "text"
      },
      "source": [
        "### Deep Factorization Machines\n",
        " Factorization machines (FMs) are a supervised learning approach that embed features into a latent space and model\n",
        "the interactions between features via inner product of their\n",
        "embedding vectors. Models based on degree-2 polynomial\n",
        "mapping and factorization machines are widely used for\n",
        "CTR prediction. Deep FM model combines the power of factorization machines for recommendation and deep learning for feature learning in a new neural network architecture."
      ]
    },
    {
      "cell_type": "code",
      "metadata": {
        "id": "Xw3zA1BzNGUf",
        "colab_type": "code",
        "colab": {}
      },
      "source": [
        "#Now let us choose the sparse,dense required for FM model as shown below\n",
        "sparse_features = ['user','cate', 'btag','adgroup_id', 'final_gender_code', 'age_level','pvalue_level', 'shopping_level', \n",
        "                   'occupation', 'new_user_class_level_','campaign_id','ad_cate_id']\n",
        "dense_features = ['num','price']"
      ],
      "execution_count": 0,
      "outputs": []
    },
    {
      "cell_type": "code",
      "metadata": {
        "id": "-LQkE2o6NeBj",
        "colab_type": "code",
        "colab": {}
      },
      "source": [
        "final_df[sparse_features] = final_df[sparse_features].fillna('-1', )\n",
        "final_df[dense_features] = final_df[dense_features].fillna(0, )\n",
        "target = ['clk']"
      ],
      "execution_count": 0,
      "outputs": []
    },
    {
      "cell_type": "code",
      "metadata": {
        "id": "3OqXn2_VNeD8",
        "colab_type": "code",
        "colab": {}
      },
      "source": [
        "#Convert columns to str for label enocding\n",
        "final_df['pvalue_level'] = final_df['pvalue_level'].astype(str)\n",
        "final_df['new_user_class_level_'] = final_df['new_user_class_level_'].astype(str)"
      ],
      "execution_count": 0,
      "outputs": []
    },
    {
      "cell_type": "code",
      "metadata": {
        "id": "xtiXf6EbNeGD",
        "colab_type": "code",
        "colab": {}
      },
      "source": [
        "# 1.Label Encoding for sparse features,and do simple Transformation for dense features\n",
        "for feat in sparse_features:\n",
        "  le = LabelEncoder()\n",
        "  final_df[feat] = le.fit_transform(final_df[feat])\n",
        "mms = MinMaxScaler(feature_range=(0, 1))\n",
        "final_df[dense_features] = mms.fit_transform(final_df[dense_features])"
      ],
      "execution_count": 0,
      "outputs": []
    },
    {
      "cell_type": "code",
      "metadata": {
        "id": "BGmF9KtaNeH8",
        "colab_type": "code",
        "colab": {}
      },
      "source": [
        "# 2.count #unique features for each sparse field,and record dense feature field name\n",
        "fixlen_feature_columns = [SparseFeat(feat, vocabulary_size=final_df[feat].nunique(),embedding_dim=4)\n",
        "                          for i,feat in enumerate(sparse_features)] + [DenseFeat(feat, 1,)\n",
        "                          for feat in dense_features]\n",
        "\n",
        "dnn_feature_columns = fixlen_feature_columns\n",
        "linear_feature_columns = fixlen_feature_columns\n",
        "\n",
        "feature_names = get_feature_names(linear_feature_columns + dnn_feature_columns)"
      ],
      "execution_count": 0,
      "outputs": []
    },
    {
      "cell_type": "code",
      "metadata": {
        "id": "2pkMN3sFNmjW",
        "colab_type": "code",
        "colab": {}
      },
      "source": [
        "# 3.generate input data for model\n",
        "train, test = train_test_split(final_df, test_size=0.2)\n",
        "train_model_input = {name:train[name] for name in feature_names}\n",
        "test_model_input = {name:test[name] for name in feature_names}"
      ],
      "execution_count": 0,
      "outputs": []
    },
    {
      "cell_type": "code",
      "metadata": {
        "id": "RSVckS5QNmlx",
        "colab_type": "code",
        "colab": {
          "base_uri": "https://localhost:8080/",
          "height": 391
        },
        "outputId": "6e44522a-1b53-48e0-88de-72272c113966"
      },
      "source": [
        "# 4.Define Model,train,predict and evaluate\n",
        "model = DeepFM(linear_feature_columns, dnn_feature_columns, task='binary')\n",
        "model.compile(\"adam\", \"binary_crossentropy\",metrics=['binary_crossentropy'], )\n",
        "\n",
        "history = model.fit(train_model_input, train[target].values, batch_size=256, epochs=10, verbose=2, validation_split=0.2, )\n",
        "pred_ans = model.predict(test_model_input, batch_size=256)\n",
        "print(\"test LogLoss\", round(log_loss(test[target].values, pred_ans), 4))\n",
        "print(\"test AUC\", round(roc_auc_score(test[target].values, pred_ans), 4))"
      ],
      "execution_count": 13,
      "outputs": [
        {
          "output_type": "stream",
          "text": [
            "Epoch 1/10\n",
            "31561/31561 - 335s - loss: 0.0753 - binary_crossentropy: 0.0681 - val_loss: 0.0532 - val_binary_crossentropy: 0.0460\n",
            "Epoch 2/10\n",
            "31561/31561 - 329s - loss: 0.0508 - binary_crossentropy: 0.0437 - val_loss: 0.0497 - val_binary_crossentropy: 0.0426\n",
            "Epoch 3/10\n",
            "31561/31561 - 325s - loss: 0.0489 - binary_crossentropy: 0.0418 - val_loss: 0.0480 - val_binary_crossentropy: 0.0409\n",
            "Epoch 4/10\n",
            "31561/31561 - 327s - loss: 0.0486 - binary_crossentropy: 0.0414 - val_loss: 0.0489 - val_binary_crossentropy: 0.0418\n",
            "Epoch 5/10\n",
            "31561/31561 - 329s - loss: 0.0482 - binary_crossentropy: 0.0411 - val_loss: 0.0486 - val_binary_crossentropy: 0.0415\n",
            "Epoch 6/10\n",
            "31561/31561 - 331s - loss: 0.0479 - binary_crossentropy: 0.0408 - val_loss: 0.0477 - val_binary_crossentropy: 0.0408\n",
            "Epoch 7/10\n",
            "31561/31561 - 331s - loss: 0.0477 - binary_crossentropy: 0.0407 - val_loss: 0.0483 - val_binary_crossentropy: 0.0413\n",
            "Epoch 8/10\n",
            "31561/31561 - 330s - loss: 0.0476 - binary_crossentropy: 0.0406 - val_loss: 0.0474 - val_binary_crossentropy: 0.0404\n",
            "Epoch 9/10\n",
            "31561/31561 - 331s - loss: 0.0474 - binary_crossentropy: 0.0406 - val_loss: 0.0477 - val_binary_crossentropy: 0.0409\n",
            "Epoch 10/10\n",
            "31561/31561 - 338s - loss: 0.0473 - binary_crossentropy: 0.0406 - val_loss: 0.0469 - val_binary_crossentropy: 0.0402\n",
            "test LogLoss nan\n",
            "test AUC 0.9935\n"
          ],
          "name": "stdout"
        }
      ]
    },
    {
      "cell_type": "code",
      "metadata": {
        "id": "_JI9Fo6SNmos",
        "colab_type": "code",
        "colab": {}
      },
      "source": [
        ""
      ],
      "execution_count": 0,
      "outputs": []
    }
  ]
}