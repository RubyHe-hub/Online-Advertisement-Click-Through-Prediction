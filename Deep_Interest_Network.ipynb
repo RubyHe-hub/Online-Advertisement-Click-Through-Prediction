{
  "nbformat": 4,
  "nbformat_minor": 0,
  "metadata": {
    "colab": {
      "name": "deep Interest Network.ipynb",
      "provenance": []
    },
    "kernelspec": {
      "name": "python3",
      "display_name": "Python 3"
    }
  },
  "cells": [
    {
      "cell_type": "code",
      "metadata": {
        "id": "t-vjApaFIfID",
        "colab_type": "code",
        "colab": {}
      },
      "source": [
        "!pip install --no-warn-conflicts -q deepctr==0.7.5"
      ],
      "execution_count": 0,
      "outputs": []
    },
    {
      "cell_type": "code",
      "metadata": {
        "id": "SUxk_-zV4qxk",
        "colab_type": "code",
        "colab": {
          "base_uri": "https://localhost:8080/",
          "height": 275
        },
        "outputId": "616aa7fb-1741-4b34-d0aa-130d6c91ab69"
      },
      "source": [
        "!pip install tensorflow==1.4.0"
      ],
      "execution_count": 5,
      "outputs": [
        {
          "output_type": "stream",
          "text": [
            "Requirement already satisfied: tensorflow==1.4.0 in /usr/local/lib/python3.6/dist-packages (1.4.0)\n",
            "Requirement already satisfied: tensorflow-tensorboard<0.5.0,>=0.4.0rc1 in /usr/local/lib/python3.6/dist-packages (from tensorflow==1.4.0) (0.4.0)\n",
            "Requirement already satisfied: enum34>=1.1.6 in /usr/local/lib/python3.6/dist-packages (from tensorflow==1.4.0) (1.1.10)\n",
            "Requirement already satisfied: six>=1.10.0 in /usr/local/lib/python3.6/dist-packages (from tensorflow==1.4.0) (1.12.0)\n",
            "Requirement already satisfied: wheel>=0.26 in /usr/local/lib/python3.6/dist-packages (from tensorflow==1.4.0) (0.34.2)\n",
            "Requirement already satisfied: protobuf>=3.3.0 in /usr/local/lib/python3.6/dist-packages (from tensorflow==1.4.0) (3.10.0)\n",
            "Requirement already satisfied: numpy>=1.12.1 in /usr/local/lib/python3.6/dist-packages (from tensorflow==1.4.0) (1.18.4)\n",
            "Requirement already satisfied: html5lib==0.9999999 in /usr/local/lib/python3.6/dist-packages (from tensorflow-tensorboard<0.5.0,>=0.4.0rc1->tensorflow==1.4.0) (0.9999999)\n",
            "Requirement already satisfied: markdown>=2.6.8 in /usr/local/lib/python3.6/dist-packages (from tensorflow-tensorboard<0.5.0,>=0.4.0rc1->tensorflow==1.4.0) (3.2.2)\n",
            "Requirement already satisfied: bleach==1.5.0 in /usr/local/lib/python3.6/dist-packages (from tensorflow-tensorboard<0.5.0,>=0.4.0rc1->tensorflow==1.4.0) (1.5.0)\n",
            "Requirement already satisfied: werkzeug>=0.11.10 in /usr/local/lib/python3.6/dist-packages (from tensorflow-tensorboard<0.5.0,>=0.4.0rc1->tensorflow==1.4.0) (1.0.1)\n",
            "Requirement already satisfied: setuptools in /usr/local/lib/python3.6/dist-packages (from protobuf>=3.3.0->tensorflow==1.4.0) (47.1.1)\n",
            "Requirement already satisfied: importlib-metadata; python_version < \"3.8\" in /usr/local/lib/python3.6/dist-packages (from markdown>=2.6.8->tensorflow-tensorboard<0.5.0,>=0.4.0rc1->tensorflow==1.4.0) (1.6.0)\n",
            "Requirement already satisfied: zipp>=0.5 in /usr/local/lib/python3.6/dist-packages (from importlib-metadata; python_version < \"3.8\"->markdown>=2.6.8->tensorflow-tensorboard<0.5.0,>=0.4.0rc1->tensorflow==1.4.0) (3.1.0)\n"
          ],
          "name": "stdout"
        }
      ]
    },
    {
      "cell_type": "code",
      "metadata": {
        "id": "yXczxiNyExgd",
        "colab_type": "code",
        "colab": {
          "base_uri": "https://localhost:8080/",
          "height": 275
        },
        "outputId": "e937a2c8-872e-4d04-8761-df4cc58ec5de"
      },
      "source": [
        "from google.colab import (files,drive)\n",
        "import os\n",
        "from sklearn.metrics import log_loss, roc_auc_score\n",
        "from sklearn.model_selection import StratifiedKFold\n",
        "from sklearn.preprocessing import LabelEncoder\n",
        "#from tensorflow.keras.models import Model, load_model\n",
        "from deepctr.models import DIN, DeepFM\n",
        "from deepctr.inputs import SparseFeat,VarLenSparseFeat,DenseFeat,get_feature_names\n",
        "#from tensorflow.keras.callbacks import ModelCheckpoint, LearningRateScheduler, Callback\n",
        "from sklearn.preprocessing import OrdinalEncoder, LabelEncoder, OneHotEncoder\n",
        "#from tensorflow.keras.utils import get_custom_objects\n",
        "#from tensorflow.keras.optimizers import Adam,RMSprop\n",
        "#from tensorflow.keras.layers import Activation\n",
        "#from tensorflow.keras import backend as K\n",
        "#from tensorflow.keras import callbacks\n",
        "#from tensorflow.keras import utils\n",
        "#import tensorflow.keras as keras\n",
        "import tensorflow as tf\n",
        "import pandas as pd\n",
        "import numpy as np\n",
        "import warnings\n",
        "import pandas_profiling \n",
        "from sklearn.metrics import log_loss, roc_auc_score\n",
        "from sklearn.model_selection import train_test_split\n",
        "from sklearn.preprocessing import MinMaxScaler\n",
        "warnings.simplefilter('ignore')"
      ],
      "execution_count": 6,
      "outputs": [
        {
          "output_type": "stream",
          "text": [
            "/usr/local/lib/python3.6/dist-packages/tensorflow/python/framework/dtypes.py:469: FutureWarning: Passing (type, 1) or '1type' as a synonym of type is deprecated; in a future version of numpy, it will be understood as (type, (1,)) / '(1,)type'.\n",
            "  _np_qint8 = np.dtype([(\"qint8\", np.int8, 1)])\n",
            "/usr/local/lib/python3.6/dist-packages/tensorflow/python/framework/dtypes.py:470: FutureWarning: Passing (type, 1) or '1type' as a synonym of type is deprecated; in a future version of numpy, it will be understood as (type, (1,)) / '(1,)type'.\n",
            "  _np_quint8 = np.dtype([(\"quint8\", np.uint8, 1)])\n",
            "/usr/local/lib/python3.6/dist-packages/tensorflow/python/framework/dtypes.py:471: FutureWarning: Passing (type, 1) or '1type' as a synonym of type is deprecated; in a future version of numpy, it will be understood as (type, (1,)) / '(1,)type'.\n",
            "  _np_qint16 = np.dtype([(\"qint16\", np.int16, 1)])\n",
            "/usr/local/lib/python3.6/dist-packages/tensorflow/python/framework/dtypes.py:472: FutureWarning: Passing (type, 1) or '1type' as a synonym of type is deprecated; in a future version of numpy, it will be understood as (type, (1,)) / '(1,)type'.\n",
            "  _np_quint16 = np.dtype([(\"quint16\", np.uint16, 1)])\n",
            "/usr/local/lib/python3.6/dist-packages/tensorflow/python/framework/dtypes.py:473: FutureWarning: Passing (type, 1) or '1type' as a synonym of type is deprecated; in a future version of numpy, it will be understood as (type, (1,)) / '(1,)type'.\n",
            "  _np_qint32 = np.dtype([(\"qint32\", np.int32, 1)])\n",
            "/usr/local/lib/python3.6/dist-packages/tensorflow/python/framework/dtypes.py:476: FutureWarning: Passing (type, 1) or '1type' as a synonym of type is deprecated; in a future version of numpy, it will be understood as (type, (1,)) / '(1,)type'.\n",
            "  np_resource = np.dtype([(\"resource\", np.ubyte, 1)])\n",
            "/usr/lib/python3.6/importlib/_bootstrap.py:219: RuntimeWarning: compiletime version 3.5 of module 'tensorflow.python.framework.fast_tensor_util' does not match runtime version 3.6\n",
            "  return f(*args, **kwds)\n"
          ],
          "name": "stderr"
        }
      ]
    },
    {
      "cell_type": "code",
      "metadata": {
        "id": "NdnNUrM5E9CY",
        "colab_type": "code",
        "outputId": "1c999748-0ce4-4fb5-df60-02d2736688c1",
        "colab": {
          "base_uri": "https://localhost:8080/",
          "height": 122
        }
      },
      "source": [
        "drive.mount('/content/gdrive', force_remount=True)\n",
        "path = \"/content/gdrive/\"\n",
        "os.chdir(path)"
      ],
      "execution_count": 7,
      "outputs": [
        {
          "output_type": "stream",
          "text": [
            "Go to this URL in a browser: https://accounts.google.com/o/oauth2/auth?client_id=947318989803-6bn6qk8qdgf4n4g3pfee6491hc0brc4i.apps.googleusercontent.com&redirect_uri=urn%3aietf%3awg%3aoauth%3a2.0%3aoob&response_type=code&scope=email%20https%3a%2f%2fwww.googleapis.com%2fauth%2fdocs.test%20https%3a%2f%2fwww.googleapis.com%2fauth%2fdrive%20https%3a%2f%2fwww.googleapis.com%2fauth%2fdrive.photos.readonly%20https%3a%2f%2fwww.googleapis.com%2fauth%2fpeopleapi.readonly\n",
            "\n",
            "Enter your authorization code:\n",
            "··········\n",
            "Mounted at /content/gdrive\n"
          ],
          "name": "stdout"
        }
      ]
    },
    {
      "cell_type": "code",
      "metadata": {
        "id": "ljpzPdi9FKVp",
        "colab_type": "code",
        "colab": {}
      },
      "source": [
        "#The original data consists of four tables with raw_sample, ad_features, user_profiles and user_behaviors. We joined the all tables on big query and selected part of data for samples\n",
        "data = pd.read_csv('My Drive/BAX423+453 Five Guys/BAX423 BIG DATA/Final Project/Data/merge_data_5k/merge_data_5k.csv')"
      ],
      "execution_count": 0,
      "outputs": []
    },
    {
      "cell_type": "code",
      "metadata": {
        "id": "1GSGVSx6pTpJ",
        "colab_type": "code",
        "colab": {
          "base_uri": "https://localhost:8080/",
          "height": 224
        },
        "outputId": "2f4c9404-c5ce-4728-f51b-edfabd0fd32a"
      },
      "source": [
        "data.head()"
      ],
      "execution_count": 9,
      "outputs": [
        {
          "output_type": "execute_result",
          "data": {
            "text/html": [
              "<div>\n",
              "<style scoped>\n",
              "    .dataframe tbody tr th:only-of-type {\n",
              "        vertical-align: middle;\n",
              "    }\n",
              "\n",
              "    .dataframe tbody tr th {\n",
              "        vertical-align: top;\n",
              "    }\n",
              "\n",
              "    .dataframe thead th {\n",
              "        text-align: right;\n",
              "    }\n",
              "</style>\n",
              "<table border=\"1\" class=\"dataframe\">\n",
              "  <thead>\n",
              "    <tr style=\"text-align: right;\">\n",
              "      <th></th>\n",
              "      <th>user</th>\n",
              "      <th>btag</th>\n",
              "      <th>cate</th>\n",
              "      <th>brand</th>\n",
              "      <th>num</th>\n",
              "      <th>adgroup_id</th>\n",
              "      <th>userid</th>\n",
              "      <th>cms_segid</th>\n",
              "      <th>cms_group_id</th>\n",
              "      <th>final_gender_code</th>\n",
              "      <th>age_level</th>\n",
              "      <th>pvalue_level</th>\n",
              "      <th>shopping_level</th>\n",
              "      <th>occupation</th>\n",
              "      <th>new_user_class_level_</th>\n",
              "      <th>ad_time_stamp</th>\n",
              "      <th>pid</th>\n",
              "      <th>nonclk</th>\n",
              "      <th>clk</th>\n",
              "      <th>ad_cate_id</th>\n",
              "      <th>campaign_id</th>\n",
              "      <th>customer</th>\n",
              "      <th>ad_brand</th>\n",
              "      <th>price</th>\n",
              "    </tr>\n",
              "  </thead>\n",
              "  <tbody>\n",
              "    <tr>\n",
              "      <th>0</th>\n",
              "      <td>520610</td>\n",
              "      <td>pv</td>\n",
              "      <td>7889</td>\n",
              "      <td>145102</td>\n",
              "      <td>1</td>\n",
              "      <td>77592</td>\n",
              "      <td>520610</td>\n",
              "      <td>0</td>\n",
              "      <td>12</td>\n",
              "      <td>1</td>\n",
              "      <td>6</td>\n",
              "      <td>NaN</td>\n",
              "      <td>3</td>\n",
              "      <td>0</td>\n",
              "      <td>NaN</td>\n",
              "      <td>1494235429</td>\n",
              "      <td>430539_1007</td>\n",
              "      <td>1</td>\n",
              "      <td>0</td>\n",
              "      <td>2249</td>\n",
              "      <td>129207</td>\n",
              "      <td>47213</td>\n",
              "      <td>335936.0</td>\n",
              "      <td>8986.0</td>\n",
              "    </tr>\n",
              "    <tr>\n",
              "      <th>1</th>\n",
              "      <td>520610</td>\n",
              "      <td>pv</td>\n",
              "      <td>11702</td>\n",
              "      <td>456398</td>\n",
              "      <td>1</td>\n",
              "      <td>250775</td>\n",
              "      <td>520610</td>\n",
              "      <td>0</td>\n",
              "      <td>12</td>\n",
              "      <td>1</td>\n",
              "      <td>6</td>\n",
              "      <td>NaN</td>\n",
              "      <td>3</td>\n",
              "      <td>0</td>\n",
              "      <td>NaN</td>\n",
              "      <td>1494579781</td>\n",
              "      <td>430539_1007</td>\n",
              "      <td>1</td>\n",
              "      <td>0</td>\n",
              "      <td>11702</td>\n",
              "      <td>244808</td>\n",
              "      <td>217150</td>\n",
              "      <td>NaN</td>\n",
              "      <td>4.2</td>\n",
              "    </tr>\n",
              "    <tr>\n",
              "      <th>2</th>\n",
              "      <td>951784</td>\n",
              "      <td>pv</td>\n",
              "      <td>6813</td>\n",
              "      <td>433111</td>\n",
              "      <td>5</td>\n",
              "      <td>138391</td>\n",
              "      <td>951784</td>\n",
              "      <td>0</td>\n",
              "      <td>12</td>\n",
              "      <td>1</td>\n",
              "      <td>6</td>\n",
              "      <td>NaN</td>\n",
              "      <td>1</td>\n",
              "      <td>0</td>\n",
              "      <td>NaN</td>\n",
              "      <td>1494491639</td>\n",
              "      <td>430548_1007</td>\n",
              "      <td>1</td>\n",
              "      <td>0</td>\n",
              "      <td>6813</td>\n",
              "      <td>219977</td>\n",
              "      <td>203097</td>\n",
              "      <td>NaN</td>\n",
              "      <td>61.0</td>\n",
              "    </tr>\n",
              "    <tr>\n",
              "      <th>3</th>\n",
              "      <td>739066</td>\n",
              "      <td>pv</td>\n",
              "      <td>6407</td>\n",
              "      <td>33424</td>\n",
              "      <td>1</td>\n",
              "      <td>671288</td>\n",
              "      <td>739066</td>\n",
              "      <td>96</td>\n",
              "      <td>12</td>\n",
              "      <td>1</td>\n",
              "      <td>6</td>\n",
              "      <td>3.0</td>\n",
              "      <td>3</td>\n",
              "      <td>0</td>\n",
              "      <td>NaN</td>\n",
              "      <td>1494336453</td>\n",
              "      <td>430539_1007</td>\n",
              "      <td>1</td>\n",
              "      <td>0</td>\n",
              "      <td>4526</td>\n",
              "      <td>24160</td>\n",
              "      <td>93536</td>\n",
              "      <td>73435.0</td>\n",
              "      <td>799.0</td>\n",
              "    </tr>\n",
              "    <tr>\n",
              "      <th>4</th>\n",
              "      <td>739066</td>\n",
              "      <td>pv</td>\n",
              "      <td>4526</td>\n",
              "      <td>327646</td>\n",
              "      <td>1</td>\n",
              "      <td>143461</td>\n",
              "      <td>739066</td>\n",
              "      <td>96</td>\n",
              "      <td>12</td>\n",
              "      <td>1</td>\n",
              "      <td>6</td>\n",
              "      <td>3.0</td>\n",
              "      <td>3</td>\n",
              "      <td>0</td>\n",
              "      <td>NaN</td>\n",
              "      <td>1494336584</td>\n",
              "      <td>430539_1007</td>\n",
              "      <td>1</td>\n",
              "      <td>0</td>\n",
              "      <td>4282</td>\n",
              "      <td>174738</td>\n",
              "      <td>26288</td>\n",
              "      <td>63989.0</td>\n",
              "      <td>358.0</td>\n",
              "    </tr>\n",
              "  </tbody>\n",
              "</table>\n",
              "</div>"
            ],
            "text/plain": [
              "     user btag   cate   brand  ...  campaign_id  customer  ad_brand   price\n",
              "0  520610   pv   7889  145102  ...       129207     47213  335936.0  8986.0\n",
              "1  520610   pv  11702  456398  ...       244808    217150       NaN     4.2\n",
              "2  951784   pv   6813  433111  ...       219977    203097       NaN    61.0\n",
              "3  739066   pv   6407   33424  ...        24160     93536   73435.0   799.0\n",
              "4  739066   pv   4526  327646  ...       174738     26288   63989.0   358.0\n",
              "\n",
              "[5 rows x 24 columns]"
            ]
          },
          "metadata": {
            "tags": []
          },
          "execution_count": 9
        }
      ]
    },
    {
      "cell_type": "code",
      "metadata": {
        "id": "tW2wWgY1paOz",
        "colab_type": "code",
        "colab": {
          "base_uri": "https://localhost:8080/",
          "height": 442
        },
        "outputId": "447aed14-82a7-4365-8bd0-9e1ae2803b7d"
      },
      "source": [
        "data.count()"
      ],
      "execution_count": 10,
      "outputs": [
        {
          "output_type": "execute_result",
          "data": {
            "text/plain": [
              "user                     2762608\n",
              "btag                     2762608\n",
              "cate                     2762608\n",
              "brand                    2762608\n",
              "num                      2762608\n",
              "adgroup_id               2762608\n",
              "userid                   2762608\n",
              "cms_segid                2762608\n",
              "cms_group_id             2762608\n",
              "final_gender_code        2762608\n",
              "age_level                2762608\n",
              "pvalue_level             1249312\n",
              "shopping_level           2762608\n",
              "occupation               2762608\n",
              "new_user_class_level_    2166852\n",
              "ad_time_stamp            2762608\n",
              "pid                      2762608\n",
              "nonclk                   2762608\n",
              "clk                      2762608\n",
              "ad_cate_id               2762608\n",
              "campaign_id              2762608\n",
              "customer                 2762608\n",
              "ad_brand                 1938548\n",
              "price                    2762608\n",
              "dtype: int64"
            ]
          },
          "metadata": {
            "tags": []
          },
          "execution_count": 10
        }
      ]
    },
    {
      "cell_type": "code",
      "metadata": {
        "id": "k-2VWULWhzon",
        "colab_type": "code",
        "colab": {
          "base_uri": "https://localhost:8080/",
          "height": 204
        },
        "outputId": "81df8d83-f8bb-4fed-fba4-ec696290a72a"
      },
      "source": [
        "# drop overlaps with 'user' and useless variables\n",
        "final_df = data.drop(columns=['userid','cms_segid', 'cms_group_id', 'customer', 'pvalue_level','new_user_class_level_', 'nonclk','pid','ad_time_stamp'])\n",
        "final_df.head()"
      ],
      "execution_count": 11,
      "outputs": [
        {
          "output_type": "execute_result",
          "data": {
            "text/html": [
              "<div>\n",
              "<style scoped>\n",
              "    .dataframe tbody tr th:only-of-type {\n",
              "        vertical-align: middle;\n",
              "    }\n",
              "\n",
              "    .dataframe tbody tr th {\n",
              "        vertical-align: top;\n",
              "    }\n",
              "\n",
              "    .dataframe thead th {\n",
              "        text-align: right;\n",
              "    }\n",
              "</style>\n",
              "<table border=\"1\" class=\"dataframe\">\n",
              "  <thead>\n",
              "    <tr style=\"text-align: right;\">\n",
              "      <th></th>\n",
              "      <th>user</th>\n",
              "      <th>btag</th>\n",
              "      <th>cate</th>\n",
              "      <th>brand</th>\n",
              "      <th>num</th>\n",
              "      <th>adgroup_id</th>\n",
              "      <th>final_gender_code</th>\n",
              "      <th>age_level</th>\n",
              "      <th>shopping_level</th>\n",
              "      <th>occupation</th>\n",
              "      <th>clk</th>\n",
              "      <th>ad_cate_id</th>\n",
              "      <th>campaign_id</th>\n",
              "      <th>ad_brand</th>\n",
              "      <th>price</th>\n",
              "    </tr>\n",
              "  </thead>\n",
              "  <tbody>\n",
              "    <tr>\n",
              "      <th>0</th>\n",
              "      <td>520610</td>\n",
              "      <td>pv</td>\n",
              "      <td>7889</td>\n",
              "      <td>145102</td>\n",
              "      <td>1</td>\n",
              "      <td>77592</td>\n",
              "      <td>1</td>\n",
              "      <td>6</td>\n",
              "      <td>3</td>\n",
              "      <td>0</td>\n",
              "      <td>0</td>\n",
              "      <td>2249</td>\n",
              "      <td>129207</td>\n",
              "      <td>335936.0</td>\n",
              "      <td>8986.0</td>\n",
              "    </tr>\n",
              "    <tr>\n",
              "      <th>1</th>\n",
              "      <td>520610</td>\n",
              "      <td>pv</td>\n",
              "      <td>11702</td>\n",
              "      <td>456398</td>\n",
              "      <td>1</td>\n",
              "      <td>250775</td>\n",
              "      <td>1</td>\n",
              "      <td>6</td>\n",
              "      <td>3</td>\n",
              "      <td>0</td>\n",
              "      <td>0</td>\n",
              "      <td>11702</td>\n",
              "      <td>244808</td>\n",
              "      <td>NaN</td>\n",
              "      <td>4.2</td>\n",
              "    </tr>\n",
              "    <tr>\n",
              "      <th>2</th>\n",
              "      <td>951784</td>\n",
              "      <td>pv</td>\n",
              "      <td>6813</td>\n",
              "      <td>433111</td>\n",
              "      <td>5</td>\n",
              "      <td>138391</td>\n",
              "      <td>1</td>\n",
              "      <td>6</td>\n",
              "      <td>1</td>\n",
              "      <td>0</td>\n",
              "      <td>0</td>\n",
              "      <td>6813</td>\n",
              "      <td>219977</td>\n",
              "      <td>NaN</td>\n",
              "      <td>61.0</td>\n",
              "    </tr>\n",
              "    <tr>\n",
              "      <th>3</th>\n",
              "      <td>739066</td>\n",
              "      <td>pv</td>\n",
              "      <td>6407</td>\n",
              "      <td>33424</td>\n",
              "      <td>1</td>\n",
              "      <td>671288</td>\n",
              "      <td>1</td>\n",
              "      <td>6</td>\n",
              "      <td>3</td>\n",
              "      <td>0</td>\n",
              "      <td>0</td>\n",
              "      <td>4526</td>\n",
              "      <td>24160</td>\n",
              "      <td>73435.0</td>\n",
              "      <td>799.0</td>\n",
              "    </tr>\n",
              "    <tr>\n",
              "      <th>4</th>\n",
              "      <td>739066</td>\n",
              "      <td>pv</td>\n",
              "      <td>4526</td>\n",
              "      <td>327646</td>\n",
              "      <td>1</td>\n",
              "      <td>143461</td>\n",
              "      <td>1</td>\n",
              "      <td>6</td>\n",
              "      <td>3</td>\n",
              "      <td>0</td>\n",
              "      <td>0</td>\n",
              "      <td>4282</td>\n",
              "      <td>174738</td>\n",
              "      <td>63989.0</td>\n",
              "      <td>358.0</td>\n",
              "    </tr>\n",
              "  </tbody>\n",
              "</table>\n",
              "</div>"
            ],
            "text/plain": [
              "     user btag   cate   brand  ...  ad_cate_id  campaign_id  ad_brand   price\n",
              "0  520610   pv   7889  145102  ...        2249       129207  335936.0  8986.0\n",
              "1  520610   pv  11702  456398  ...       11702       244808       NaN     4.2\n",
              "2  951784   pv   6813  433111  ...        6813       219977       NaN    61.0\n",
              "3  739066   pv   6407   33424  ...        4526        24160   73435.0   799.0\n",
              "4  739066   pv   4526  327646  ...        4282       174738   63989.0   358.0\n",
              "\n",
              "[5 rows x 15 columns]"
            ]
          },
          "metadata": {
            "tags": []
          },
          "execution_count": 11
        }
      ]
    },
    {
      "cell_type": "code",
      "metadata": {
        "id": "K00LTrmzpcem",
        "colab_type": "code",
        "colab": {
          "base_uri": "https://localhost:8080/",
          "height": 317
        },
        "outputId": "54d3e6a2-b1aa-4e48-f905-9fac3a7624dd"
      },
      "source": [
        "final_df.describe()"
      ],
      "execution_count": 12,
      "outputs": [
        {
          "output_type": "execute_result",
          "data": {
            "text/html": [
              "<div>\n",
              "<style scoped>\n",
              "    .dataframe tbody tr th:only-of-type {\n",
              "        vertical-align: middle;\n",
              "    }\n",
              "\n",
              "    .dataframe tbody tr th {\n",
              "        vertical-align: top;\n",
              "    }\n",
              "\n",
              "    .dataframe thead th {\n",
              "        text-align: right;\n",
              "    }\n",
              "</style>\n",
              "<table border=\"1\" class=\"dataframe\">\n",
              "  <thead>\n",
              "    <tr style=\"text-align: right;\">\n",
              "      <th></th>\n",
              "      <th>user</th>\n",
              "      <th>cate</th>\n",
              "      <th>brand</th>\n",
              "      <th>num</th>\n",
              "      <th>adgroup_id</th>\n",
              "      <th>final_gender_code</th>\n",
              "      <th>age_level</th>\n",
              "      <th>shopping_level</th>\n",
              "      <th>occupation</th>\n",
              "      <th>clk</th>\n",
              "      <th>ad_cate_id</th>\n",
              "      <th>campaign_id</th>\n",
              "      <th>ad_brand</th>\n",
              "      <th>price</th>\n",
              "    </tr>\n",
              "  </thead>\n",
              "  <tbody>\n",
              "    <tr>\n",
              "      <th>count</th>\n",
              "      <td>2.762608e+06</td>\n",
              "      <td>2.762608e+06</td>\n",
              "      <td>2.762608e+06</td>\n",
              "      <td>2.762608e+06</td>\n",
              "      <td>2.762608e+06</td>\n",
              "      <td>2.762608e+06</td>\n",
              "      <td>2.762608e+06</td>\n",
              "      <td>2.762608e+06</td>\n",
              "      <td>2.762608e+06</td>\n",
              "      <td>2.762608e+06</td>\n",
              "      <td>2.762608e+06</td>\n",
              "      <td>2.762608e+06</td>\n",
              "      <td>1.938548e+06</td>\n",
              "      <td>2.762608e+06</td>\n",
              "    </tr>\n",
              "    <tr>\n",
              "      <th>mean</th>\n",
              "      <td>5.218145e+05</td>\n",
              "      <td>5.653908e+03</td>\n",
              "      <td>2.224584e+05</td>\n",
              "      <td>3.386945e+00</td>\n",
              "      <td>5.155424e+05</td>\n",
              "      <td>1.820269e+00</td>\n",
              "      <td>3.322075e+00</td>\n",
              "      <td>2.863031e+00</td>\n",
              "      <td>4.455319e-02</td>\n",
              "      <td>5.797384e-02</td>\n",
              "      <td>5.372834e+03</td>\n",
              "      <td>2.093112e+05</td>\n",
              "      <td>2.231318e+05</td>\n",
              "      <td>4.984280e+02</td>\n",
              "    </tr>\n",
              "    <tr>\n",
              "      <th>std</th>\n",
              "      <td>3.295863e+05</td>\n",
              "      <td>2.448490e+03</td>\n",
              "      <td>1.325319e+05</td>\n",
              "      <td>8.742217e+00</td>\n",
              "      <td>2.181907e+05</td>\n",
              "      <td>3.839629e-01</td>\n",
              "      <td>1.190995e+00</td>\n",
              "      <td>4.250758e-01</td>\n",
              "      <td>2.063207e-01</td>\n",
              "      <td>2.336940e-01</td>\n",
              "      <td>2.304382e+03</td>\n",
              "      <td>1.242508e+05</td>\n",
              "      <td>1.309648e+05</td>\n",
              "      <td>6.387926e+03</td>\n",
              "    </tr>\n",
              "    <tr>\n",
              "      <th>min</th>\n",
              "      <td>3.690000e+02</td>\n",
              "      <td>1.000000e+00</td>\n",
              "      <td>2.000000e+00</td>\n",
              "      <td>1.000000e+00</td>\n",
              "      <td>2.300000e+01</td>\n",
              "      <td>1.000000e+00</td>\n",
              "      <td>0.000000e+00</td>\n",
              "      <td>1.000000e+00</td>\n",
              "      <td>0.000000e+00</td>\n",
              "      <td>0.000000e+00</td>\n",
              "      <td>1.000000e+00</td>\n",
              "      <td>7.000000e+00</td>\n",
              "      <td>3.000000e+00</td>\n",
              "      <td>3.000000e-02</td>\n",
              "    </tr>\n",
              "    <tr>\n",
              "      <th>25%</th>\n",
              "      <td>2.296610e+05</td>\n",
              "      <td>4.292000e+03</td>\n",
              "      <td>1.020870e+05</td>\n",
              "      <td>1.000000e+00</td>\n",
              "      <td>3.664560e+05</td>\n",
              "      <td>2.000000e+00</td>\n",
              "      <td>3.000000e+00</td>\n",
              "      <td>3.000000e+00</td>\n",
              "      <td>0.000000e+00</td>\n",
              "      <td>0.000000e+00</td>\n",
              "      <td>4.282000e+03</td>\n",
              "      <td>1.049900e+05</td>\n",
              "      <td>1.035560e+05</td>\n",
              "      <td>8.500000e+01</td>\n",
              "    </tr>\n",
              "    <tr>\n",
              "      <th>50%</th>\n",
              "      <td>5.076360e+05</td>\n",
              "      <td>6.177000e+03</td>\n",
              "      <td>2.249850e+05</td>\n",
              "      <td>1.000000e+00</td>\n",
              "      <td>5.680950e+05</td>\n",
              "      <td>2.000000e+00</td>\n",
              "      <td>3.000000e+00</td>\n",
              "      <td>3.000000e+00</td>\n",
              "      <td>0.000000e+00</td>\n",
              "      <td>0.000000e+00</td>\n",
              "      <td>5.920000e+03</td>\n",
              "      <td>2.032880e+05</td>\n",
              "      <td>2.220360e+05</td>\n",
              "      <td>1.680000e+02</td>\n",
              "    </tr>\n",
              "    <tr>\n",
              "      <th>75%</th>\n",
              "      <td>7.797190e+05</td>\n",
              "      <td>6.468000e+03</td>\n",
              "      <td>3.367600e+05</td>\n",
              "      <td>3.000000e+00</td>\n",
              "      <td>6.884330e+05</td>\n",
              "      <td>2.000000e+00</td>\n",
              "      <td>4.000000e+00</td>\n",
              "      <td>3.000000e+00</td>\n",
              "      <td>0.000000e+00</td>\n",
              "      <td>0.000000e+00</td>\n",
              "      <td>6.426000e+03</td>\n",
              "      <td>3.202440e+05</td>\n",
              "      <td>3.374640e+05</td>\n",
              "      <td>3.250000e+02</td>\n",
              "    </tr>\n",
              "    <tr>\n",
              "      <th>max</th>\n",
              "      <td>1.141691e+06</td>\n",
              "      <td>1.297300e+04</td>\n",
              "      <td>4.614030e+05</td>\n",
              "      <td>1.125000e+03</td>\n",
              "      <td>8.467570e+05</td>\n",
              "      <td>2.000000e+00</td>\n",
              "      <td>6.000000e+00</td>\n",
              "      <td>3.000000e+00</td>\n",
              "      <td>1.000000e+00</td>\n",
              "      <td>1.000000e+00</td>\n",
              "      <td>1.296000e+04</td>\n",
              "      <td>4.234350e+05</td>\n",
              "      <td>4.612910e+05</td>\n",
              "      <td>9.999990e+05</td>\n",
              "    </tr>\n",
              "  </tbody>\n",
              "</table>\n",
              "</div>"
            ],
            "text/plain": [
              "               user          cate  ...      ad_brand         price\n",
              "count  2.762608e+06  2.762608e+06  ...  1.938548e+06  2.762608e+06\n",
              "mean   5.218145e+05  5.653908e+03  ...  2.231318e+05  4.984280e+02\n",
              "std    3.295863e+05  2.448490e+03  ...  1.309648e+05  6.387926e+03\n",
              "min    3.690000e+02  1.000000e+00  ...  3.000000e+00  3.000000e-02\n",
              "25%    2.296610e+05  4.292000e+03  ...  1.035560e+05  8.500000e+01\n",
              "50%    5.076360e+05  6.177000e+03  ...  2.220360e+05  1.680000e+02\n",
              "75%    7.797190e+05  6.468000e+03  ...  3.374640e+05  3.250000e+02\n",
              "max    1.141691e+06  1.297300e+04  ...  4.612910e+05  9.999990e+05\n",
              "\n",
              "[8 rows x 14 columns]"
            ]
          },
          "metadata": {
            "tags": []
          },
          "execution_count": 12
        }
      ]
    },
    {
      "cell_type": "markdown",
      "metadata": {
        "id": "Kuhpoi0RyFf8",
        "colab_type": "text"
      },
      "source": [
        "### Deep Interest Network (DIN)\n",
        "DIN represents users’ diverse interests with an interest distribution and designs an attention-like network structure to locally activate the related interests according to the candidate ad. Behaviors with higher relevance to the candidate ad get higher attention scores and dominate the prediction.  "
      ]
    },
    {
      "cell_type": "code",
      "metadata": {
        "id": "vmpw-VD-iZ5U",
        "colab_type": "code",
        "colab": {}
      },
      "source": [
        "final_df['hist_ad_cate_id'] = final_df['cate']\n",
        "final_df['hist_ad_brand'] = final_df['brand']\n",
        "final_df['btag'] = final_df['btag'].astype('category').cat.codes"
      ],
      "execution_count": 0,
      "outputs": []
    },
    {
      "cell_type": "code",
      "metadata": {
        "id": "FeHxq7Oix3Yf",
        "colab_type": "code",
        "colab": {}
      },
      "source": [
        "#Construct the sparse,dense and sequence features required for DIN model\n",
        "sparse_features_1 = ['user', 'final_gender_code','ad_cate_id','ad_brand', 'age_level','shopping_level','btag','occupation']\n",
        "dense_features_1 = ['price','num']\n",
        "sequence_features_1 = ['hist_ad_cate_id','hist_ad_brand']"
      ],
      "execution_count": 0,
      "outputs": []
    },
    {
      "cell_type": "code",
      "metadata": {
        "id": "gXYqGoEKG1Cm",
        "colab_type": "code",
        "colab": {
          "base_uri": "https://localhost:8080/",
          "height": 34
        },
        "outputId": "a2eda28a-c6fe-47e6-c37c-eafc5aa8f22f"
      },
      "source": [
        "behavior_feature_list = ['ad_cate_id','ad_brand']\n",
        "behavior_feature_list"
      ],
      "execution_count": 15,
      "outputs": [
        {
          "output_type": "execute_result",
          "data": {
            "text/plain": [
              "['ad_cate_id', 'ad_brand']"
            ]
          },
          "metadata": {
            "tags": []
          },
          "execution_count": 15
        }
      ]
    },
    {
      "cell_type": "code",
      "metadata": {
        "id": "q-sXUR3VUL3e",
        "colab_type": "code",
        "colab": {}
      },
      "source": [
        "final_df[sparse_features_1] = final_df[sparse_features_1].fillna('0', )\n",
        "final_df[sequence_features_1] = final_df[sequence_features_1].fillna('0', )\n",
        "final_df[dense_features_1] = final_df[dense_features_1].fillna(0, )\n",
        "target = ['clk']"
      ],
      "execution_count": 0,
      "outputs": []
    },
    {
      "cell_type": "code",
      "metadata": {
        "id": "34XbHGrIUS-7",
        "colab_type": "code",
        "colab": {}
      },
      "source": [
        "#Perform simple transformation on dense features\n",
        "mms = MinMaxScaler(feature_range=(0, 1))\n",
        "final_df[dense_features_1] = mms.fit_transform(final_df[dense_features_1])"
      ],
      "execution_count": 0,
      "outputs": []
    },
    {
      "cell_type": "code",
      "metadata": {
        "id": "gYFLsncTafQO",
        "colab_type": "code",
        "colab": {}
      },
      "source": [
        "# SparseFeat('age_level',vocabulary_size=final_df['age_level'].nunique(), embedding_dim = 4),\n",
        "# SparseFeat('shopping_level',vocabulary_size=final_df['shopping_level'].nunique(), embedding_dim = 4),"
      ],
      "execution_count": 0,
      "outputs": []
    },
    {
      "cell_type": "code",
      "metadata": {
        "id": "WM1Os1PfR5m6",
        "colab_type": "code",
        "colab": {}
      },
      "source": [
        "feature_columns = [SparseFeat('user',vocabulary_size=1200000, embedding_dim = 10),\n",
        "                   SparseFeat('adgroup_id',vocabulary_size=1200000, embedding_dim = 4),\n",
        "                   SparseFeat('ad_cate_id',vocabulary_size=1200000, embedding_dim = 8),\n",
        "                   SparseFeat('ad_brand',vocabulary_size=1200000, embedding_dim = 8),\n",
        "                   SparseFeat('final_gender_code',vocabulary_size=1200000, embedding_dim = 4),\n",
        "                   SparseFeat('age_level',vocabulary_size=1200000, embedding_dim = 4),\n",
        "                   SparseFeat('shopping_level',vocabulary_size=1200000, embedding_dim = 4),\n",
        "                   SparseFeat('occupation',vocabulary_size=1200000, embedding_dim = 4),\n",
        "                   SparseFeat('btag',vocabulary_size=1200000, embedding_dim = 4),\n",
        "                   DenseFeat('price',1),\n",
        "                   DenseFeat('num',1)]"
      ],
      "execution_count": 0,
      "outputs": []
    },
    {
      "cell_type": "code",
      "metadata": {
        "id": "CA4HjzCuT4DL",
        "colab_type": "code",
        "colab": {}
      },
      "source": [
        "feature_columns += [VarLenSparseFeat(SparseFeat('hist_ad_cate_id', vocabulary_size=1200000,embedding_dim=8, embedding_name = 'ad_cate_id'), maxlen=1),\n",
        "                    VarLenSparseFeat(SparseFeat('hist_ad_brand', vocabulary_size=1200000,embedding_dim=8, embedding_name = 'ad_brand'), maxlen=1)]"
      ],
      "execution_count": 0,
      "outputs": []
    },
    {
      "cell_type": "code",
      "metadata": {
        "id": "h3WCbKeo77LG",
        "colab_type": "code",
        "colab": {
          "base_uri": "https://localhost:8080/",
          "height": 258
        },
        "outputId": "58b58a91-43ae-488b-cc32-dab865885f16"
      },
      "source": [
        "feature_columns"
      ],
      "execution_count": 21,
      "outputs": [
        {
          "output_type": "execute_result",
          "data": {
            "text/plain": [
              "[SparseFeat(name='user', vocabulary_size=1200000, embedding_dim=10, use_hash=False, dtype='int32', embedding_name='user', group_name='default_group'),\n",
              " SparseFeat(name='adgroup_id', vocabulary_size=1200000, embedding_dim=4, use_hash=False, dtype='int32', embedding_name='adgroup_id', group_name='default_group'),\n",
              " SparseFeat(name='ad_cate_id', vocabulary_size=1200000, embedding_dim=8, use_hash=False, dtype='int32', embedding_name='ad_cate_id', group_name='default_group'),\n",
              " SparseFeat(name='ad_brand', vocabulary_size=1200000, embedding_dim=8, use_hash=False, dtype='int32', embedding_name='ad_brand', group_name='default_group'),\n",
              " SparseFeat(name='final_gender_code', vocabulary_size=1200000, embedding_dim=4, use_hash=False, dtype='int32', embedding_name='final_gender_code', group_name='default_group'),\n",
              " SparseFeat(name='age_level', vocabulary_size=1200000, embedding_dim=4, use_hash=False, dtype='int32', embedding_name='age_level', group_name='default_group'),\n",
              " SparseFeat(name='shopping_level', vocabulary_size=1200000, embedding_dim=4, use_hash=False, dtype='int32', embedding_name='shopping_level', group_name='default_group'),\n",
              " SparseFeat(name='occupation', vocabulary_size=1200000, embedding_dim=4, use_hash=False, dtype='int32', embedding_name='occupation', group_name='default_group'),\n",
              " SparseFeat(name='btag', vocabulary_size=1200000, embedding_dim=4, use_hash=False, dtype='int32', embedding_name='btag', group_name='default_group'),\n",
              " DenseFeat(name='price', dimension=1, dtype='float32'),\n",
              " DenseFeat(name='num', dimension=1, dtype='float32'),\n",
              " VarLenSparseFeat(sparsefeat=SparseFeat(name='hist_ad_cate_id', vocabulary_size=1200000, embedding_dim=8, use_hash=False, dtype='int32', embedding_name='ad_cate_id', group_name='default_group'), maxlen=1, combiner='mean', length_name=None, weight_name=None, weight_norm=True),\n",
              " VarLenSparseFeat(sparsefeat=SparseFeat(name='hist_ad_brand', vocabulary_size=1200000, embedding_dim=8, use_hash=False, dtype='int32', embedding_name='ad_brand', group_name='default_group'), maxlen=1, combiner='mean', length_name=None, weight_name=None, weight_norm=True)]"
            ]
          },
          "metadata": {
            "tags": []
          },
          "execution_count": 21
        }
      ]
    },
    {
      "cell_type": "code",
      "metadata": {
        "id": "tnPQvkfdUhUx",
        "colab_type": "code",
        "colab": {}
      },
      "source": [
        "feature_names = get_feature_names(feature_columns)"
      ],
      "execution_count": 0,
      "outputs": []
    },
    {
      "cell_type": "code",
      "metadata": {
        "id": "gjF9gYAdZBNS",
        "colab_type": "code",
        "colab": {}
      },
      "source": [
        "train, test = train_test_split(final_df, test_size=0.2)\n",
        "train_model_input = {name:train[name] for name in feature_names}\n",
        "test_model_input = {name:test[name] for name in feature_names}"
      ],
      "execution_count": 0,
      "outputs": []
    },
    {
      "cell_type": "code",
      "metadata": {
        "id": "DgT_9NMkpbvd",
        "colab_type": "code",
        "colab": {}
      },
      "source": [
        "model = DIN(feature_columns, behavior_feature_list, dnn_use_bn=True,\n",
        "        dnn_hidden_units=(200, 80), dnn_activation='relu', att_hidden_size=(80, 40), att_activation=\"dice\",\n",
        "        att_weight_normalization=False, l2_reg_dnn=0, l2_reg_embedding=1e-6, dnn_dropout=0, init_std=0.0001, seed=1024,\n",
        "        task='binary')"
      ],
      "execution_count": 0,
      "outputs": []
    },
    {
      "cell_type": "code",
      "metadata": {
        "id": "xCSU1nyl7EHE",
        "colab_type": "code",
        "colab": {
          "base_uri": "https://localhost:8080/",
          "height": 238
        },
        "outputId": "69f6d877-1516-428c-8787-5c5731fc774f"
      },
      "source": [
        "model.input"
      ],
      "execution_count": 25,
      "outputs": [
        {
          "output_type": "execute_result",
          "data": {
            "text/plain": [
              "[<tf.Tensor 'user_1:0' shape=(?, 1) dtype=int32>,\n",
              " <tf.Tensor 'adgroup_id_1:0' shape=(?, 1) dtype=int32>,\n",
              " <tf.Tensor 'ad_cate_id_1:0' shape=(?, 1) dtype=int32>,\n",
              " <tf.Tensor 'ad_brand_1:0' shape=(?, 1) dtype=int32>,\n",
              " <tf.Tensor 'final_gender_code_1:0' shape=(?, 1) dtype=int32>,\n",
              " <tf.Tensor 'age_level_1:0' shape=(?, 1) dtype=int32>,\n",
              " <tf.Tensor 'shopping_level_1:0' shape=(?, 1) dtype=int32>,\n",
              " <tf.Tensor 'occupation_1:0' shape=(?, 1) dtype=int32>,\n",
              " <tf.Tensor 'btag_1:0' shape=(?, 1) dtype=int32>,\n",
              " <tf.Tensor 'price_1:0' shape=(?, 1) dtype=float32>,\n",
              " <tf.Tensor 'num_1:0' shape=(?, 1) dtype=float32>,\n",
              " <tf.Tensor 'hist_ad_cate_id_1:0' shape=(?, 1) dtype=int32>,\n",
              " <tf.Tensor 'hist_ad_brand_1:0' shape=(?, 1) dtype=int32>]"
            ]
          },
          "metadata": {
            "tags": []
          },
          "execution_count": 25
        }
      ]
    },
    {
      "cell_type": "code",
      "metadata": {
        "id": "eWZyUgdXWtYr",
        "colab_type": "code",
        "colab": {
          "base_uri": "https://localhost:8080/",
          "height": 238
        },
        "outputId": "bb6a60d5-8e16-411e-c626-fc7db74cceda"
      },
      "source": [
        "#Define Model,Train,Predict and Evaluate\n",
        "model.compile(\"adam\", \"binary_crossentropy\",metrics=['binary_crossentropy'], )\n",
        "history = model.fit(train_model_input, train[target].values,batch_size=5024, epochs=5, verbose=1, validation_split=0.25, )\n",
        "pred_ans = model.predict(test_model_input, batch_size=256)\n",
        "print(\"test LogLoss\", round(log_loss(test[target].values, pred_ans), 2))\n",
        "print(\"test AUC\", round(roc_auc_score(test[target].values, pred_ans), 2))"
      ],
      "execution_count": 26,
      "outputs": [
        {
          "output_type": "stream",
          "text": [
            "Train on 1657564 samples, validate on 552522 samples\n",
            "Epoch 1/5\n",
            "1657564/1657564 [==============================] - 485s - loss: 0.1402 - binary_crossentropy: 0.1401 - val_loss: 0.6405 - val_binary_crossentropy: 0.6404\n",
            "Epoch 2/5\n",
            "1657564/1657564 [==============================] - 474s - loss: 0.0442 - binary_crossentropy: 0.0440 - val_loss: 0.6116 - val_binary_crossentropy: 0.6114\n",
            "Epoch 3/5\n",
            "1657564/1657564 [==============================] - 472s - loss: 0.0350 - binary_crossentropy: 0.0348 - val_loss: 0.5904 - val_binary_crossentropy: 0.5901\n",
            "Epoch 4/5\n",
            "1657564/1657564 [==============================] - 476s - loss: 0.0315 - binary_crossentropy: 0.0312 - val_loss: 0.5720 - val_binary_crossentropy: 0.5717\n",
            "Epoch 5/5\n",
            "1657564/1657564 [==============================] - 482s - loss: 0.0296 - binary_crossentropy: 0.0292 - val_loss: 0.5725 - val_binary_crossentropy: 0.5720\n",
            "test LogLoss 0.57\n",
            "test AUC 0.78\n"
          ],
          "name": "stdout"
        }
      ]
    }
  ]
}