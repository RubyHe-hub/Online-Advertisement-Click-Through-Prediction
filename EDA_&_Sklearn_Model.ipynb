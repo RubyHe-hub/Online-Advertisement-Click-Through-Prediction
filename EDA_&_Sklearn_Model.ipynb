{
  "nbformat": 4,
  "nbformat_minor": 0,
  "metadata": {
    "colab": {
      "name": "Final Project EDA & Sklearn Model.ipynb",
      "provenance": [],
      "collapsed_sections": []
    },
    "kernelspec": {
      "name": "python3",
      "display_name": "Python 3"
    }
  },
  "cells": [
    {
      "cell_type": "code",
      "metadata": {
        "id": "2x_posNTS-R6",
        "colab_type": "code",
        "outputId": "35da76e2-2f36-4332-ee5f-5a00f2f6d0b8",
        "colab": {
          "base_uri": "https://localhost:8080/",
          "height": 34
        }
      },
      "source": [
        "from google.colab import (files,drive)\n",
        "import pandas as pd\n",
        "import os\n",
        "import matplotlib.pyplot as plt\n",
        "import datetime as dt\n",
        "\n",
        "drive.mount('/content/gdrive', force_remount=True)\n",
        "path = \"/content/gdrive/\"\n",
        "os.chdir(path)"
      ],
      "execution_count": 0,
      "outputs": [
        {
          "output_type": "stream",
          "text": [
            "Mounted at /content/gdrive\n"
          ],
          "name": "stdout"
        }
      ]
    },
    {
      "cell_type": "code",
      "metadata": {
        "id": "Qp8cDGjG1hpN",
        "colab_type": "code",
        "colab": {}
      },
      "source": [
        "import numpy as np\n",
        "import pandas as pd\n",
        "from datetime import datetime, date, time\n",
        "from sklearn.linear_model import SGDClassifier\n",
        "from sklearn.tree import DecisionTreeClassifier\n",
        "from sklearn.metrics import log_loss\n",
        "from sklearn.feature_extraction import FeatureHasher\n",
        "from sklearn import preprocessing \n",
        "from sklearn.pipeline import Pipeline\n",
        "from sklearn import model_selection\n",
        "from sklearn.linear_model import LogisticRegression\n",
        "from sklearn.externals import joblib\n",
        "from sklearn.model_selection import GridSearchCV\n",
        "from xgboost import XGBClassifier #note: activate the xgboost environment\n",
        "from lightgbm import LGBMClassifier\n",
        "from imblearn.over_sampling import SMOTE  \n",
        "# !pip3 install imbalanced-learn\n",
        "from imblearn.over_sampling import ADASYN\n",
        "from sklearn.model_selection import train_test_split\n",
        "import statsmodels.api as sm\n",
        "from sklearn.ensemble import RandomForestClassifier\n",
        "from sklearn.metrics import confusion_matrix, precision_recall_curve, accuracy_score, roc_auc_score, f1_score, precision_score, recall_score, auc, classification_report,roc_curve\n"
      ],
      "execution_count": 0,
      "outputs": []
    },
    {
      "cell_type": "markdown",
      "metadata": {
        "id": "W8a6kij51nx9",
        "colab_type": "text"
      },
      "source": [
        "##EDA\n"
      ]
    },
    {
      "cell_type": "code",
      "metadata": {
        "id": "bOpo0l_5TMZ1",
        "colab_type": "code",
        "colab": {}
      },
      "source": [
        "data_0 = pd.read_csv('My Drive/BAX423+453 Five Guys/BAX423 BIG DATA/Final Project/Data/merge_data/merge_data_10k_0.csv')\n",
        "data_1 = pd.read_csv(\"My Drive/BAX423+453 Five Guys/BAX423 BIG DATA/Final Project/Data/merge_data/merge_data_10k_1.csv\")\n",
        "data_2 = pd.read_csv(\"My Drive/BAX423+453 Five Guys/BAX423 BIG DATA/Final Project/Data/merge_data/merge_data_10k_2.csv\")\n",
        "data_3 = pd.read_csv(\"My Drive/BAX423+453 Five Guys/BAX423 BIG DATA/Final Project/Data/merge_data/merge_data_10k_3.csv\")\n",
        "data_4 = pd.read_csv(\"My Drive/BAX423+453 Five Guys/BAX423 BIG DATA/Final Project/Data/merge_data/merge_data_10k_4.csv\")"
      ],
      "execution_count": 0,
      "outputs": []
    },
    {
      "cell_type": "code",
      "metadata": {
        "id": "fDunjmzVT1tA",
        "colab_type": "code",
        "colab": {}
      },
      "source": [
        "data=pd.concat([data_0,data_1,data_2,data_3,data_4])"
      ],
      "execution_count": 0,
      "outputs": []
    },
    {
      "cell_type": "code",
      "metadata": {
        "id": "6sox4-gXWP9p",
        "colab_type": "code",
        "outputId": "00683e35-f721-4b97-d729-6344bb300317",
        "colab": {
          "base_uri": "https://localhost:8080/",
          "height": 527
        }
      },
      "source": [
        "data.info()"
      ],
      "execution_count": 0,
      "outputs": [
        {
          "output_type": "stream",
          "text": [
            "<class 'pandas.core.frame.DataFrame'>\n",
            "Int64Index: 12624402 entries, 0 to 2526058\n",
            "Data columns (total 23 columns):\n",
            " #   Column                 Dtype  \n",
            "---  ------                 -----  \n",
            " 0   user                   int64  \n",
            " 1   cate                   int64  \n",
            " 2   btag                   object \n",
            " 3   num                    int64  \n",
            " 4   adgroup_id             int64  \n",
            " 5   userid                 int64  \n",
            " 6   cms_segid              int64  \n",
            " 7   cms_group_id           int64  \n",
            " 8   final_gender_code      int64  \n",
            " 9   age_level              int64  \n",
            " 10  pvalue_level           float64\n",
            " 11  shopping_level         int64  \n",
            " 12  occupation             int64  \n",
            " 13  new_user_class_level_  float64\n",
            " 14  ad_time_stamp          int64  \n",
            " 15  pid                    object \n",
            " 16  nonclk                 int64  \n",
            " 17  clk                    int64  \n",
            " 18  ad_cate_id             int64  \n",
            " 19  campaign_id            int64  \n",
            " 20  customer               int64  \n",
            " 21  ad_brand               float64\n",
            " 22  price                  float64\n",
            "dtypes: float64(4), int64(17), object(2)\n",
            "memory usage: 2.3+ GB\n"
          ],
          "name": "stdout"
        }
      ]
    },
    {
      "cell_type": "code",
      "metadata": {
        "id": "ICjeX0etgvmo",
        "colab_type": "code",
        "outputId": "f1fa1e3d-161d-4a47-9b00-9b1a6be6832d",
        "colab": {
          "base_uri": "https://localhost:8080/",
          "height": 34
        }
      },
      "source": [
        "data['user'].nunique()"
      ],
      "execution_count": 0,
      "outputs": [
        {
          "output_type": "execute_result",
          "data": {
            "text/plain": [
              "10000"
            ]
          },
          "metadata": {
            "tags": []
          },
          "execution_count": 31
        }
      ]
    },
    {
      "cell_type": "code",
      "metadata": {
        "id": "hnNSLjEng_nl",
        "colab_type": "code",
        "outputId": "66783423-8d2a-4838-c9a8-f39180ccee67",
        "colab": {
          "base_uri": "https://localhost:8080/",
          "height": 34
        }
      },
      "source": [
        "data['ad_time_stamp'].nunique()"
      ],
      "execution_count": 0,
      "outputs": [
        {
          "output_type": "execute_result",
          "data": {
            "text/plain": [
              "56682"
            ]
          },
          "metadata": {
            "tags": []
          },
          "execution_count": 8
        }
      ]
    },
    {
      "cell_type": "code",
      "metadata": {
        "id": "MaZWgnKMiryq",
        "colab_type": "code",
        "colab": {}
      },
      "source": [
        "data['date']=pd.to_datetime(data['ad_time_stamp'],unit='s').apply(lambda x: x.date())\n",
        "data_0['date']=pd.to_datetime(data_0['ad_time_stamp'],unit='s').apply(lambda x: x.date())"
      ],
      "execution_count": 0,
      "outputs": []
    },
    {
      "cell_type": "code",
      "metadata": {
        "id": "wIC0AwpWi4bG",
        "colab_type": "code",
        "outputId": "e18b9f64-89d4-4272-8b77-91e5e54969fa",
        "colab": {
          "base_uri": "https://localhost:8080/",
          "height": 469
        }
      },
      "source": [
        "hs=data.groupby('date')['clk'].mean()\n",
        "hs.plot(kind='bar', figsize=(10,6))\n",
        "plt.title('CTR by Date')"
      ],
      "execution_count": 0,
      "outputs": [
        {
          "output_type": "execute_result",
          "data": {
            "text/plain": [
              "Text(0.5, 1.0, 'CTR by Date')"
            ]
          },
          "metadata": {
            "tags": []
          },
          "execution_count": 10
        },
        {
          "output_type": "display_data",
          "data": {
            "image/png": "[encoded data removed]",
            "text/plain": [
              "<Figure size 720x432 with 1 Axes>"
            ]
          },
          "metadata": {
            "tags": [],
            "needs_background": "light"
          }
        }
      ]
    },
    {
      "cell_type": "code",
      "metadata": {
        "id": "oJQ8XOroi-LP",
        "colab_type": "code",
        "colab": {}
      },
      "source": [
        "import datetime as dt\n",
        "data['hour']=pd.to_datetime(data['ad_time_stamp'],unit='s').dt.hour\n",
        "data_0['hour']=pd.to_datetime(data_0['ad_time_stamp'],unit='s').dt.hour"
      ],
      "execution_count": 0,
      "outputs": []
    },
    {
      "cell_type": "code",
      "metadata": {
        "id": "NCZMSQK6jhMN",
        "colab_type": "code",
        "outputId": "5708234e-632d-4ab3-d62f-aa486a2555bd",
        "colab": {
          "base_uri": "https://localhost:8080/",
          "height": 424
        }
      },
      "source": [
        "hs=data.groupby('hour')['clk'].mean()\n",
        "hs.plot(kind='bar', figsize=(12,6))\n",
        "plt.title('CTR by hour')"
      ],
      "execution_count": 0,
      "outputs": [
        {
          "output_type": "execute_result",
          "data": {
            "text/plain": [
              "Text(0.5, 1.0, 'CTR by hour')"
            ]
          },
          "metadata": {
            "tags": []
          },
          "execution_count": 12
        },
        {
          "output_type": "display_data",
          "data": {
            "image/png": "[encoded data removed]",
            "text/plain": [
              "<Figure size 864x432 with 1 Axes>"
            ]
          },
          "metadata": {
            "tags": [],
            "needs_background": "light"
          }
        }
      ]
    },
    {
      "cell_type": "code",
      "metadata": {
        "id": "13JR4OaLZIBO",
        "colab_type": "code",
        "outputId": "a2618037-fb48-4792-c6c0-8211d11d156d",
        "colab": {
          "base_uri": "https://localhost:8080/",
          "height": 1000
        }
      },
      "source": [
        "data[['pvalue_level','shopping_level','age_level','final_gender_code','occupation','new_user_class_level_']].apply(pd.value_counts).plot(kind='pie', subplots=True,autopct='%1.0f%%',radius=1,layout=(3,2),figsize=(10,20))\n",
        "plt.legend(bbox_to_anchor=(0.85,1.025), loc=\"upper left\")"
      ],
      "execution_count": 0,
      "outputs": [
        {
          "output_type": "execute_result",
          "data": {
            "text/plain": [
              "<matplotlib.legend.Legend at 0x7f706108aa58>"
            ]
          },
          "metadata": {
            "tags": []
          },
          "execution_count": 30
        },
        {
          "output_type": "display_data",
          "data": {
            "image/png": "[encoded data removed]",
            "text/plain": [
              "<Figure size 720x1440 with 6 Axes>"
            ]
          },
          "metadata": {
            "tags": []
          }
        }
      ]
    },
    {
      "cell_type": "code",
      "metadata": {
        "id": "mU3IRy3khJAM",
        "colab_type": "code",
        "outputId": "e7c4f440-6e1c-477f-b10e-b4cad9dad1f8",
        "colab": {
          "base_uri": "https://localhost:8080/",
          "height": 418
        }
      },
      "source": [
        "#age_level: age_level\n",
        "hs=data.groupby('age_level')['clk'].mean()\n",
        "hs.plot(kind='bar', figsize=(6,6))\n",
        "plt.title('CTR by Age Level')"
      ],
      "execution_count": 0,
      "outputs": [
        {
          "output_type": "execute_result",
          "data": {
            "text/plain": [
              "Text(0.5, 1.0, 'CTR by Age Level')"
            ]
          },
          "metadata": {
            "tags": []
          },
          "execution_count": 13
        },
        {
          "output_type": "display_data",
          "data": {
            "image/png": "[encoded data removed]",
            "text/plain": [
              "<Figure size 432x432 with 1 Axes>"
            ]
          },
          "metadata": {
            "tags": [],
            "needs_background": "light"
          }
        }
      ]
    },
    {
      "cell_type": "code",
      "metadata": {
        "id": "cAtqlq3PV4nP",
        "colab_type": "code",
        "outputId": "810f681a-5b5a-4e2c-ceac-f7a5c8b9d933",
        "colab": {
          "base_uri": "https://localhost:8080/",
          "height": 418
        }
      },
      "source": [
        "#age_level: age_level\n",
        "hs=data.groupby(['age_level','shopping_level'])['clk'].mean()\n",
        "hs.unstack().plot(kind='bar', figsize=(12,6))\n",
        "plt.title('CTR by Age Level and Shopping Level')"
      ],
      "execution_count": 0,
      "outputs": [
        {
          "output_type": "execute_result",
          "data": {
            "text/plain": [
              "Text(0.5, 1.0, 'CTR by Age Level and Shopping Level')"
            ]
          },
          "metadata": {
            "tags": []
          },
          "execution_count": 32
        },
        {
          "output_type": "display_data",
          "data": {
            "image/png": "[encoded data removed]",
            "text/plain": [
              "<Figure size 864x432 with 1 Axes>"
            ]
          },
          "metadata": {
            "tags": [],
            "needs_background": "light"
          }
        }
      ]
    },
    {
      "cell_type": "code",
      "metadata": {
        "id": "7YC1Z_qBykLi",
        "colab_type": "code",
        "outputId": "fd94a032-6505-4929-cef6-0b5062343915",
        "colab": {
          "base_uri": "https://localhost:8080/",
          "height": 731
        }
      },
      "source": [
        "pd.DataFrame(hs)"
      ],
      "execution_count": 0,
      "outputs": [
        {
          "output_type": "execute_result",
          "data": {
            "text/html": [
              "<div>\n",
              "<style scoped>\n",
              "    .dataframe tbody tr th:only-of-type {\n",
              "        vertical-align: middle;\n",
              "    }\n",
              "\n",
              "    .dataframe tbody tr th {\n",
              "        vertical-align: top;\n",
              "    }\n",
              "\n",
              "    .dataframe thead th {\n",
              "        text-align: right;\n",
              "    }\n",
              "</style>\n",
              "<table border=\"1\" class=\"dataframe\">\n",
              "  <thead>\n",
              "    <tr style=\"text-align: right;\">\n",
              "      <th></th>\n",
              "      <th></th>\n",
              "      <th>clk</th>\n",
              "    </tr>\n",
              "    <tr>\n",
              "      <th>age_level</th>\n",
              "      <th>shopping_level</th>\n",
              "      <th></th>\n",
              "    </tr>\n",
              "  </thead>\n",
              "  <tbody>\n",
              "    <tr>\n",
              "      <th rowspan=\"3\" valign=\"top\">0</th>\n",
              "      <th>1</th>\n",
              "      <td>0.000000</td>\n",
              "    </tr>\n",
              "    <tr>\n",
              "      <th>2</th>\n",
              "      <td>0.000000</td>\n",
              "    </tr>\n",
              "    <tr>\n",
              "      <th>3</th>\n",
              "      <td>0.018828</td>\n",
              "    </tr>\n",
              "    <tr>\n",
              "      <th rowspan=\"3\" valign=\"top\">1</th>\n",
              "      <th>1</th>\n",
              "      <td>0.096807</td>\n",
              "    </tr>\n",
              "    <tr>\n",
              "      <th>2</th>\n",
              "      <td>0.059248</td>\n",
              "    </tr>\n",
              "    <tr>\n",
              "      <th>3</th>\n",
              "      <td>0.067063</td>\n",
              "    </tr>\n",
              "    <tr>\n",
              "      <th rowspan=\"3\" valign=\"top\">2</th>\n",
              "      <th>1</th>\n",
              "      <td>0.062528</td>\n",
              "    </tr>\n",
              "    <tr>\n",
              "      <th>2</th>\n",
              "      <td>0.049402</td>\n",
              "    </tr>\n",
              "    <tr>\n",
              "      <th>3</th>\n",
              "      <td>0.055146</td>\n",
              "    </tr>\n",
              "    <tr>\n",
              "      <th rowspan=\"3\" valign=\"top\">3</th>\n",
              "      <th>1</th>\n",
              "      <td>0.067012</td>\n",
              "    </tr>\n",
              "    <tr>\n",
              "      <th>2</th>\n",
              "      <td>0.059492</td>\n",
              "    </tr>\n",
              "    <tr>\n",
              "      <th>3</th>\n",
              "      <td>0.053900</td>\n",
              "    </tr>\n",
              "    <tr>\n",
              "      <th rowspan=\"3\" valign=\"top\">4</th>\n",
              "      <th>1</th>\n",
              "      <td>0.066078</td>\n",
              "    </tr>\n",
              "    <tr>\n",
              "      <th>2</th>\n",
              "      <td>0.045755</td>\n",
              "    </tr>\n",
              "    <tr>\n",
              "      <th>3</th>\n",
              "      <td>0.052854</td>\n",
              "    </tr>\n",
              "    <tr>\n",
              "      <th rowspan=\"3\" valign=\"top\">5</th>\n",
              "      <th>1</th>\n",
              "      <td>0.060301</td>\n",
              "    </tr>\n",
              "    <tr>\n",
              "      <th>2</th>\n",
              "      <td>0.061926</td>\n",
              "    </tr>\n",
              "    <tr>\n",
              "      <th>3</th>\n",
              "      <td>0.047630</td>\n",
              "    </tr>\n",
              "    <tr>\n",
              "      <th rowspan=\"3\" valign=\"top\">6</th>\n",
              "      <th>1</th>\n",
              "      <td>0.062284</td>\n",
              "    </tr>\n",
              "    <tr>\n",
              "      <th>2</th>\n",
              "      <td>0.097849</td>\n",
              "    </tr>\n",
              "    <tr>\n",
              "      <th>3</th>\n",
              "      <td>0.065653</td>\n",
              "    </tr>\n",
              "  </tbody>\n",
              "</table>\n",
              "</div>"
            ],
            "text/plain": [
              "                               clk\n",
              "age_level shopping_level          \n",
              "0         1               0.000000\n",
              "          2               0.000000\n",
              "          3               0.018828\n",
              "1         1               0.096807\n",
              "          2               0.059248\n",
              "          3               0.067063\n",
              "2         1               0.062528\n",
              "          2               0.049402\n",
              "          3               0.055146\n",
              "3         1               0.067012\n",
              "          2               0.059492\n",
              "          3               0.053900\n",
              "4         1               0.066078\n",
              "          2               0.045755\n",
              "          3               0.052854\n",
              "5         1               0.060301\n",
              "          2               0.061926\n",
              "          3               0.047630\n",
              "6         1               0.062284\n",
              "          2               0.097849\n",
              "          3               0.065653"
            ]
          },
          "metadata": {
            "tags": []
          },
          "execution_count": 34
        }
      ]
    },
    {
      "cell_type": "code",
      "metadata": {
        "id": "eXVrmjfQkDO4",
        "colab_type": "code",
        "outputId": "0a04b6b6-b751-4f88-996e-f57accfbb45b",
        "colab": {
          "base_uri": "https://localhost:8080/",
          "height": 418
        }
      },
      "source": [
        "#final_gender_code: gender 1 for male , 2 for female\n",
        "hs=data.groupby('final_gender_code')['clk'].mean()\n",
        "hs.plot(kind='bar', figsize=(6,6))\n",
        "plt.title('CTR by gender')"
      ],
      "execution_count": 0,
      "outputs": [
        {
          "output_type": "execute_result",
          "data": {
            "text/plain": [
              "Text(0.5, 1.0, 'CTR by gender')"
            ]
          },
          "metadata": {
            "tags": []
          },
          "execution_count": 14
        },
        {
          "output_type": "display_data",
          "data": {
            "image/png": "[encoded data removed]",
            "text/plain": [
              "<Figure size 432x432 with 1 Axes>"
            ]
          },
          "metadata": {
            "tags": [],
            "needs_background": "light"
          }
        }
      ]
    },
    {
      "cell_type": "code",
      "metadata": {
        "id": "V2V8PAnwkKTs",
        "colab_type": "code",
        "outputId": "2777d842-1ff2-435c-ddb3-876410de523e",
        "colab": {
          "base_uri": "https://localhost:8080/",
          "height": 428
        }
      },
      "source": [
        "#pvalue_level: Consumption grade, 1: low,  2: mid,  3: high\n",
        "hs=data.groupby('pvalue_level')['clk'].mean()\n",
        "hs.plot(kind='bar', figsize=(6,6))\n",
        "plt.title('CTR by Consumption Grade')"
      ],
      "execution_count": 0,
      "outputs": [
        {
          "output_type": "execute_result",
          "data": {
            "text/plain": [
              "Text(0.5, 1.0, 'CTR by Consumption Grade')"
            ]
          },
          "metadata": {
            "tags": []
          },
          "execution_count": 15
        },
        {
          "output_type": "display_data",
          "data": {
            "image/png": "[encoded data removed]",
            "text/plain": [
              "<Figure size 432x432 with 1 Axes>"
            ]
          },
          "metadata": {
            "tags": [],
            "needs_background": "light"
          }
        }
      ]
    },
    {
      "cell_type": "code",
      "metadata": {
        "id": "fnhdi6FsYEmK",
        "colab_type": "code",
        "outputId": "613ad366-4702-497b-9aea-5ea420a49b85",
        "colab": {
          "base_uri": "https://localhost:8080/",
          "height": 427
        }
      },
      "source": [
        "#pvalue_level: Consumption grade, 1: low,  2: mid,  3: high\n",
        "hs=data.groupby(['pvalue_level','shopping_level'])['clk'].mean()\n",
        "hs.unstack().plot(kind='bar', figsize=(12,6))\n",
        "plt.title('CTR by Age Level and Shopping Level')\n",
        "plt.xlabel('Consumption Grade')\n",
        "plt.ylabel('CTR')"
      ],
      "execution_count": 0,
      "outputs": [
        {
          "output_type": "execute_result",
          "data": {
            "text/plain": [
              "Text(0, 0.5, 'CTR')"
            ]
          },
          "metadata": {
            "tags": []
          },
          "execution_count": 13
        },
        {
          "output_type": "display_data",
          "data": {
            "image/png": "[encoded data removed]",
            "text/plain": [
              "<Figure size 864x432 with 1 Axes>"
            ]
          },
          "metadata": {
            "tags": [],
            "needs_background": "light"
          }
        }
      ]
    },
    {
      "cell_type": "code",
      "metadata": {
        "id": "X8NjWuCMktgP",
        "colab_type": "code",
        "outputId": "878776fc-64a4-4291-db60-dc6506fc32aa",
        "colab": {
          "base_uri": "https://localhost:8080/",
          "height": 417
        }
      },
      "source": [
        "#occupation: Is the college student 1: yes, 0: no?\n",
        "hs=data.groupby('occupation')['clk'].mean()\n",
        "hs.plot(kind='bar', figsize=(6,6))\n",
        "plt.title('CTR by occupation ')"
      ],
      "execution_count": 0,
      "outputs": [
        {
          "output_type": "execute_result",
          "data": {
            "text/plain": [
              "Text(0.5, 1.0, 'CTR by occupation ')"
            ]
          },
          "metadata": {
            "tags": []
          },
          "execution_count": 17
        },
        {
          "output_type": "display_data",
          "data": {
            "image/png": "[encoded data removed]",
            "text/plain": [
              "<Figure size 432x432 with 1 Axes>"
            ]
          },
          "metadata": {
            "tags": [],
            "needs_background": "light"
          }
        }
      ]
    },
    {
      "cell_type": "code",
      "metadata": {
        "id": "aFKKu023A4ej",
        "colab_type": "code",
        "colab": {}
      },
      "source": [
        ""
      ],
      "execution_count": 0,
      "outputs": []
    },
    {
      "cell_type": "code",
      "metadata": {
        "id": "vmGrAWwr5WfE",
        "colab_type": "code",
        "outputId": "ece1298d-8f77-4793-875c-7b893473446a",
        "colab": {
          "base_uri": "https://localhost:8080/",
          "height": 417
        }
      },
      "source": [
        "#occupation shopping level\n",
        "hs=data.groupby(['occupation','shopping_level'])['clk'].mean()\n",
        "hs.unstack().plot(kind='bar', figsize=(6,6))\n",
        "plt.title('CTR by occupation')"
      ],
      "execution_count": 0,
      "outputs": [
        {
          "output_type": "execute_result",
          "data": {
            "text/plain": [
              "Text(0.5, 1.0, 'CTR by occupation')"
            ]
          },
          "metadata": {
            "tags": []
          },
          "execution_count": 42
        },
        {
          "output_type": "display_data",
          "data": {
            "image/png": "[encoded data removed]",
            "text/plain": [
              "<Figure size 432x432 with 1 Axes>"
            ]
          },
          "metadata": {
            "tags": [],
            "needs_background": "light"
          }
        }
      ]
    },
    {
      "cell_type": "code",
      "metadata": {
        "id": "BiVPTO367n0w",
        "colab_type": "code",
        "outputId": "4ee1dc7b-3ab6-4193-df09-c71f5ce95b17",
        "colab": {
          "base_uri": "https://localhost:8080/",
          "height": 142
        }
      },
      "source": [
        "hs.unstack()"
      ],
      "execution_count": 0,
      "outputs": [
        {
          "output_type": "execute_result",
          "data": {
            "text/html": [
              "<div>\n",
              "<style scoped>\n",
              "    .dataframe tbody tr th:only-of-type {\n",
              "        vertical-align: middle;\n",
              "    }\n",
              "\n",
              "    .dataframe tbody tr th {\n",
              "        vertical-align: top;\n",
              "    }\n",
              "\n",
              "    .dataframe thead th {\n",
              "        text-align: right;\n",
              "    }\n",
              "</style>\n",
              "<table border=\"1\" class=\"dataframe\">\n",
              "  <thead>\n",
              "    <tr style=\"text-align: right;\">\n",
              "      <th>shopping_level</th>\n",
              "      <th>1</th>\n",
              "      <th>2</th>\n",
              "      <th>3</th>\n",
              "    </tr>\n",
              "    <tr>\n",
              "      <th>occupation</th>\n",
              "      <th></th>\n",
              "      <th></th>\n",
              "      <th></th>\n",
              "    </tr>\n",
              "  </thead>\n",
              "  <tbody>\n",
              "    <tr>\n",
              "      <th>0</th>\n",
              "      <td>0.067526</td>\n",
              "      <td>0.053261</td>\n",
              "      <td>0.053142</td>\n",
              "    </tr>\n",
              "    <tr>\n",
              "      <th>1</th>\n",
              "      <td>0.082286</td>\n",
              "      <td>0.037926</td>\n",
              "      <td>0.053135</td>\n",
              "    </tr>\n",
              "  </tbody>\n",
              "</table>\n",
              "</div>"
            ],
            "text/plain": [
              "shopping_level         1         2         3\n",
              "occupation                                  \n",
              "0               0.067526  0.053261  0.053142\n",
              "1               0.082286  0.037926  0.053135"
            ]
          },
          "metadata": {
            "tags": []
          },
          "execution_count": 43
        }
      ]
    },
    {
      "cell_type": "code",
      "metadata": {
        "id": "WXT-9uew9d6h",
        "colab_type": "code",
        "outputId": "3e4214c3-e54c-457e-8b26-1eb550cda427",
        "colab": {
          "base_uri": "https://localhost:8080/",
          "height": 417
        }
      },
      "source": [
        "#occupation shopping level\n",
        "hs=data.groupby(['occupation','final_gender_code'])['clk'].mean()\n",
        "hs.unstack().plot(kind='bar', figsize=(6,6))\n",
        "plt.title('CTR by occupation & gender')"
      ],
      "execution_count": 0,
      "outputs": [
        {
          "output_type": "execute_result",
          "data": {
            "text/plain": [
              "Text(0.5, 1.0, 'CTR by occupation & gender')"
            ]
          },
          "metadata": {
            "tags": []
          },
          "execution_count": 46
        },
        {
          "output_type": "display_data",
          "data": {
            "image/png": "[encoded data removed]",
            "text/plain": [
              "<Figure size 432x432 with 1 Axes>"
            ]
          },
          "metadata": {
            "tags": [],
            "needs_background": "light"
          }
        }
      ]
    },
    {
      "cell_type": "code",
      "metadata": {
        "id": "bZ3PS_hi9jxg",
        "colab_type": "code",
        "outputId": "0bbbbcd8-676b-4b2e-f0f8-cb5b177651b3",
        "colab": {
          "base_uri": "https://localhost:8080/",
          "height": 142
        }
      },
      "source": [
        "hs.unstack()"
      ],
      "execution_count": 0,
      "outputs": [
        {
          "output_type": "execute_result",
          "data": {
            "text/html": [
              "<div>\n",
              "<style scoped>\n",
              "    .dataframe tbody tr th:only-of-type {\n",
              "        vertical-align: middle;\n",
              "    }\n",
              "\n",
              "    .dataframe tbody tr th {\n",
              "        vertical-align: top;\n",
              "    }\n",
              "\n",
              "    .dataframe thead th {\n",
              "        text-align: right;\n",
              "    }\n",
              "</style>\n",
              "<table border=\"1\" class=\"dataframe\">\n",
              "  <thead>\n",
              "    <tr style=\"text-align: right;\">\n",
              "      <th>final_gender_code</th>\n",
              "      <th>1</th>\n",
              "      <th>2</th>\n",
              "    </tr>\n",
              "    <tr>\n",
              "      <th>occupation</th>\n",
              "      <th></th>\n",
              "      <th></th>\n",
              "    </tr>\n",
              "  </thead>\n",
              "  <tbody>\n",
              "    <tr>\n",
              "      <th>0</th>\n",
              "      <td>0.052320</td>\n",
              "      <td>0.054135</td>\n",
              "    </tr>\n",
              "    <tr>\n",
              "      <th>1</th>\n",
              "      <td>0.016458</td>\n",
              "      <td>0.066262</td>\n",
              "    </tr>\n",
              "  </tbody>\n",
              "</table>\n",
              "</div>"
            ],
            "text/plain": [
              "final_gender_code         1         2\n",
              "occupation                           \n",
              "0                  0.052320  0.054135\n",
              "1                  0.016458  0.066262"
            ]
          },
          "metadata": {
            "tags": []
          },
          "execution_count": 45
        }
      ]
    },
    {
      "cell_type": "code",
      "metadata": {
        "id": "fJ_sOUu_5g67",
        "colab_type": "code",
        "outputId": "0c7c12a9-d2aa-489a-9907-fdabb4ff30d0",
        "colab": {
          "base_uri": "https://localhost:8080/",
          "height": 418
        }
      },
      "source": [
        "#new_user_class_level: City level\n",
        "hs=data.groupby(['final_gender_code','shopping_level'])['clk'].mean()\n",
        "hs.unstack().plot(kind='bar', figsize=(6,6))\n",
        "plt.title('CTR by gender')"
      ],
      "execution_count": 0,
      "outputs": [
        {
          "output_type": "execute_result",
          "data": {
            "text/plain": [
              "Text(0.5, 1.0, 'CTR by occupation')"
            ]
          },
          "metadata": {
            "tags": []
          },
          "execution_count": 40
        },
        {
          "output_type": "display_data",
          "data": {
            "image/png": "[encoded data removed]",
            "text/plain": [
              "<Figure size 432x432 with 1 Axes>"
            ]
          },
          "metadata": {
            "tags": [],
            "needs_background": "light"
          }
        }
      ]
    },
    {
      "cell_type": "code",
      "metadata": {
        "id": "n3ykerP35tKK",
        "colab_type": "code",
        "outputId": "9a78fc6b-9c7b-4dd0-d2d9-496fd28a10a1",
        "colab": {
          "base_uri": "https://localhost:8080/",
          "height": 142
        }
      },
      "source": [
        "hs.unstack()"
      ],
      "execution_count": 0,
      "outputs": [
        {
          "output_type": "execute_result",
          "data": {
            "text/html": [
              "<div>\n",
              "<style scoped>\n",
              "    .dataframe tbody tr th:only-of-type {\n",
              "        vertical-align: middle;\n",
              "    }\n",
              "\n",
              "    .dataframe tbody tr th {\n",
              "        vertical-align: top;\n",
              "    }\n",
              "\n",
              "    .dataframe thead th {\n",
              "        text-align: right;\n",
              "    }\n",
              "</style>\n",
              "<table border=\"1\" class=\"dataframe\">\n",
              "  <thead>\n",
              "    <tr style=\"text-align: right;\">\n",
              "      <th>shopping_level</th>\n",
              "      <th>1</th>\n",
              "      <th>2</th>\n",
              "      <th>3</th>\n",
              "    </tr>\n",
              "    <tr>\n",
              "      <th>final_gender_code</th>\n",
              "      <th></th>\n",
              "      <th></th>\n",
              "      <th></th>\n",
              "    </tr>\n",
              "  </thead>\n",
              "  <tbody>\n",
              "    <tr>\n",
              "      <th>1</th>\n",
              "      <td>0.065638</td>\n",
              "      <td>0.056698</td>\n",
              "      <td>0.048813</td>\n",
              "    </tr>\n",
              "    <tr>\n",
              "      <th>2</th>\n",
              "      <td>0.068259</td>\n",
              "      <td>0.050631</td>\n",
              "      <td>0.054410</td>\n",
              "    </tr>\n",
              "  </tbody>\n",
              "</table>\n",
              "</div>"
            ],
            "text/plain": [
              "shopping_level            1         2         3\n",
              "final_gender_code                              \n",
              "1                  0.065638  0.056698  0.048813\n",
              "2                  0.068259  0.050631  0.054410"
            ]
          },
          "metadata": {
            "tags": []
          },
          "execution_count": 41
        }
      ]
    },
    {
      "cell_type": "code",
      "metadata": {
        "id": "Ebb1-HsSkz4L",
        "colab_type": "code",
        "outputId": "982433a8-8185-4d83-e9f6-4f718eda5c27",
        "colab": {
          "base_uri": "https://localhost:8080/",
          "height": 428
        }
      },
      "source": [
        "#new_user_class_level: City level\n",
        "hs=data.groupby(['new_user_class_level_','shopping_level'])['clk'].mean()\n",
        "hs.unstack().plot(kind='bar', figsize=(6,6))\n",
        "plt.title('CTR by new_user_class_level')"
      ],
      "execution_count": 0,
      "outputs": [
        {
          "output_type": "execute_result",
          "data": {
            "text/plain": [
              "Text(0.5, 1.0, 'CTR by new_user_class_level')"
            ]
          },
          "metadata": {
            "tags": []
          },
          "execution_count": 36
        },
        {
          "output_type": "display_data",
          "data": {
            "image/png": "[encoded data removed]",
            "text/plain": [
              "<Figure size 432x432 with 1 Axes>"
            ]
          },
          "metadata": {
            "tags": [],
            "needs_background": "light"
          }
        }
      ]
    },
    {
      "cell_type": "code",
      "metadata": {
        "id": "Fu6RGIN22fFJ",
        "colab_type": "code",
        "outputId": "89d84c5f-de7d-4b37-fdfa-53de5a4f6db0",
        "colab": {
          "base_uri": "https://localhost:8080/",
          "height": 204
        }
      },
      "source": [
        "pd.DataFrame(hs.unstack())"
      ],
      "execution_count": 0,
      "outputs": [
        {
          "output_type": "execute_result",
          "data": {
            "text/html": [
              "<div>\n",
              "<style scoped>\n",
              "    .dataframe tbody tr th:only-of-type {\n",
              "        vertical-align: middle;\n",
              "    }\n",
              "\n",
              "    .dataframe tbody tr th {\n",
              "        vertical-align: top;\n",
              "    }\n",
              "\n",
              "    .dataframe thead th {\n",
              "        text-align: right;\n",
              "    }\n",
              "</style>\n",
              "<table border=\"1\" class=\"dataframe\">\n",
              "  <thead>\n",
              "    <tr style=\"text-align: right;\">\n",
              "      <th>shopping_level</th>\n",
              "      <th>1</th>\n",
              "      <th>2</th>\n",
              "      <th>3</th>\n",
              "    </tr>\n",
              "    <tr>\n",
              "      <th>new_user_class_level_</th>\n",
              "      <th></th>\n",
              "      <th></th>\n",
              "      <th></th>\n",
              "    </tr>\n",
              "  </thead>\n",
              "  <tbody>\n",
              "    <tr>\n",
              "      <th>1.0</th>\n",
              "      <td>0.070261</td>\n",
              "      <td>0.137001</td>\n",
              "      <td>0.063607</td>\n",
              "    </tr>\n",
              "    <tr>\n",
              "      <th>2.0</th>\n",
              "      <td>0.131122</td>\n",
              "      <td>0.052513</td>\n",
              "      <td>0.056029</td>\n",
              "    </tr>\n",
              "    <tr>\n",
              "      <th>3.0</th>\n",
              "      <td>0.102914</td>\n",
              "      <td>0.078120</td>\n",
              "      <td>0.047155</td>\n",
              "    </tr>\n",
              "    <tr>\n",
              "      <th>4.0</th>\n",
              "      <td>0.066750</td>\n",
              "      <td>0.037434</td>\n",
              "      <td>0.047751</td>\n",
              "    </tr>\n",
              "  </tbody>\n",
              "</table>\n",
              "</div>"
            ],
            "text/plain": [
              "shopping_level                1         2         3\n",
              "new_user_class_level_                              \n",
              "1.0                    0.070261  0.137001  0.063607\n",
              "2.0                    0.131122  0.052513  0.056029\n",
              "3.0                    0.102914  0.078120  0.047155\n",
              "4.0                    0.066750  0.037434  0.047751"
            ]
          },
          "metadata": {
            "tags": []
          },
          "execution_count": 37
        }
      ]
    },
    {
      "cell_type": "markdown",
      "metadata": {
        "id": "81lLNLa81kK5",
        "colab_type": "text"
      },
      "source": [
        "##Model"
      ]
    },
    {
      "cell_type": "code",
      "metadata": {
        "id": "RKERkr5z1UT-",
        "colab_type": "code",
        "outputId": "6c98579c-2e67-4ecf-f7b9-c879dd72c1ad",
        "colab": {
          "base_uri": "https://localhost:8080/",
          "height": 136
        }
      },
      "source": [
        "data_final.columns"
      ],
      "execution_count": 0,
      "outputs": [
        {
          "output_type": "execute_result",
          "data": {
            "text/plain": [
              "Index(['user', 'cate', 'btag', 'num', 'adgroup_id', 'userid', 'cms_segid',\n",
              "       'cms_group_id', 'final_gender_code', 'age_level', 'pvalue_level',\n",
              "       'shopping_level', 'occupation', 'new_user_class_level_',\n",
              "       'ad_time_stamp', 'pid', 'nonclk', 'clk', 'ad_cate_id', 'campaign_id',\n",
              "       'customer', 'ad_brand', 'price', 'date', 'hour', 'buy', 'cart', 'fav',\n",
              "       'pv'],\n",
              "      dtype='object')"
            ]
          },
          "metadata": {
            "tags": []
          },
          "execution_count": 13
        }
      ]
    },
    {
      "cell_type": "code",
      "metadata": {
        "id": "bAerTa3kzWXu",
        "colab_type": "code",
        "colab": {}
      },
      "source": [
        "#split train test dataset at 0.75 / 0.25\n",
        "col = ['buy', 'cart', 'fav','pv','final_gender_code', 'age_level', 'pvalue_level',\n",
        "       'shopping_level', 'occupation', 'new_user_class_level_','price','hour']\n",
        "X = data_final[col]\n",
        "y = data_final['clk']\n",
        "X_train, X_test, y_train, y_test = train_test_split(X, y, test_size=0.25, random_state=0)"
      ],
      "execution_count": 0,
      "outputs": []
    },
    {
      "cell_type": "code",
      "metadata": {
        "id": "F7SvQxKO08C9",
        "colab_type": "code",
        "outputId": "ca62e0a5-00e6-4cb4-ab6f-3ab9acf00a1f",
        "colab": {
          "base_uri": "https://localhost:8080/",
          "height": 71
        }
      },
      "source": [
        "#oversampling\n",
        "os = SMOTE(random_state=0)\n",
        "X_train, y_train = os.fit_sample(X_train, y_train)\n",
        "X_train = pd.DataFrame(X_train,columns=col)\n",
        "y_train = pd.DataFrame(y_train)"
      ],
      "execution_count": 0,
      "outputs": [
        {
          "output_type": "stream",
          "text": [
            "/usr/local/lib/python3.6/dist-packages/sklearn/utils/validation.py:760: DataConversionWarning: A column-vector y was passed when a 1d array was expected. Please change the shape of y to (n_samples, ), for example using ravel().\n",
            "  y = column_or_1d(y, warn=True)\n"
          ],
          "name": "stderr"
        }
      ]
    },
    {
      "cell_type": "markdown",
      "metadata": {
        "id": "-RAAf1BYzXDF",
        "colab_type": "text"
      },
      "source": [
        "### Logistic Regression"
      ]
    },
    {
      "cell_type": "code",
      "metadata": {
        "id": "eJtHKVXCzam6",
        "colab_type": "code",
        "outputId": "72c3d065-86d1-43c7-cc82-715e686144dd",
        "colab": {
          "base_uri": "https://localhost:8080/",
          "height": 527
        }
      },
      "source": [
        "logit_model = sm.Logit(y_train, X_train)\n",
        "result = logit_model.fit()\n",
        "print(result.summary2())"
      ],
      "execution_count": 0,
      "outputs": [
        {
          "output_type": "stream",
          "text": [
            "Optimization terminated successfully.\n",
            "         Current function value: 0.688773\n",
            "         Iterations 4\n",
            "                            Results: Logit\n",
            "=======================================================================\n",
            "Model:                Logit             Pseudo R-squared:  0.006       \n",
            "Dependent Variable:   0.0000            AIC:               4938507.8206\n",
            "Date:                 2020-06-05 09:48  BIC:               4938664.9278\n",
            "No. Observations:     3584986           Log-Likelihood:    -2.4692e+06 \n",
            "Df Model:             11                LL-Null:           -2.4849e+06 \n",
            "Df Residuals:         3584974           LLR p-value:       0.0000      \n",
            "Converged:            1.0000            Scale:             1.0000      \n",
            "No. Iterations:       4.0000                                           \n",
            "-----------------------------------------------------------------------\n",
            "                       Coef.  Std.Err.     z     P>|z|   [0.025  0.975]\n",
            "-----------------------------------------------------------------------\n",
            "buy                   -0.0123   0.0004  -31.7677 0.0000 -0.0131 -0.0116\n",
            "cart                  -0.0152   0.0001 -111.0782 0.0000 -0.0155 -0.0149\n",
            "fav                   -0.0051   0.0001  -81.1946 0.0000 -0.0053 -0.0050\n",
            "pv                     0.0006   0.0000  119.3287 0.0000  0.0006  0.0006\n",
            "final_gender_code      0.0927   0.0022   42.1301 0.0000  0.0884  0.0971\n",
            "age_level             -0.0250   0.0009  -27.9693 0.0000 -0.0268 -0.0233\n",
            "pvalue_level           0.0412   0.0011   37.3579 0.0000  0.0391  0.0434\n",
            "shopping_level        -0.0140   0.0018   -7.7854 0.0000 -0.0176 -0.0105\n",
            "occupation            -0.0554   0.0051  -10.8912 0.0000 -0.0653 -0.0454\n",
            "new_user_class_level_ -0.0460   0.0008  -54.4967 0.0000 -0.0476 -0.0443\n",
            "price                  0.0000   0.0000    7.9014 0.0000  0.0000  0.0000\n",
            "hour                   0.0014   0.0002    8.1986 0.0000  0.0011  0.0018\n",
            "=======================================================================\n",
            "\n"
          ],
          "name": "stdout"
        }
      ]
    },
    {
      "cell_type": "code",
      "metadata": {
        "id": "uWLNHCJT4QHY",
        "colab_type": "code",
        "outputId": "f60e2a3f-af44-4ca0-b0dd-b6f3f0f578e8",
        "colab": {
          "base_uri": "https://localhost:8080/",
          "height": 241
        }
      },
      "source": [
        "clf = LogisticRegression()\n",
        "clf.fit(X_train, y_train)\n",
        "y_true, y_pred = y_test, clf.predict(X_test)\n",
        "print(classification_report(y_true, y_pred))\n",
        "fp_rate, tp_rate, thresholds = roc_curve(y_true, y_pred)\n",
        "print(auc(fp_rate, tp_rate))"
      ],
      "execution_count": 0,
      "outputs": [
        {
          "output_type": "stream",
          "text": [
            "/usr/local/lib/python3.6/dist-packages/sklearn/utils/validation.py:760: DataConversionWarning: A column-vector y was passed when a 1d array was expected. Please change the shape of y to (n_samples, ), for example using ravel().\n",
            "  y = column_or_1d(y, warn=True)\n"
          ],
          "name": "stderr"
        },
        {
          "output_type": "stream",
          "text": [
            "              precision    recall  f1-score   support\n",
            "\n",
            "           0       0.95      0.62      0.75    597645\n",
            "           1       0.06      0.46      0.11     33647\n",
            "\n",
            "    accuracy                           0.61    631292\n",
            "   macro avg       0.51      0.54      0.43    631292\n",
            "weighted avg       0.91      0.61      0.71    631292\n",
            "\n",
            "0.5392780885908228\n"
          ],
          "name": "stdout"
        }
      ]
    },
    {
      "cell_type": "markdown",
      "metadata": {
        "id": "h25BohDkzJkP",
        "colab_type": "text"
      },
      "source": [
        "### Random Forest"
      ]
    },
    {
      "cell_type": "code",
      "metadata": {
        "id": "CcHuQUgz4c4u",
        "colab_type": "code",
        "outputId": "778884d9-9fef-47ad-8071-0d70f33a7059",
        "colab": {
          "base_uri": "https://localhost:8080/",
          "height": 343
        }
      },
      "source": [
        "from sklearn.ensemble import RandomForestClassifier\n",
        "clf = RandomForestClassifier(n_estimators=32, max_depth=40, min_samples_split=100, min_samples_leaf=10, random_state=0, criterion='entropy',max_features=8, verbose = 1, n_jobs=-1, bootstrap=False)\n",
        "clf.fit(X_train, y_train)\n",
        "y_true, y_pred = y_test, clf.predict(X_test)\n",
        "print(classification_report(y_true, y_pred))\n",
        "fp_rate, tp_rate, thresholds = roc_curve(y_true, y_pred)\n",
        "print(auc(fp_rate, tp_rate))\n",
        "\n",
        "feature=['btag', 'num', 'final_gender_code', 'age_level', 'pvalue_level','shopping_level', 'occupation', 'new_user_class_level_','price', 'date', 'hour']\n",
        "#rf1_imp = pd.DataFrame({'feature':feature, 'impt': clf.feature_importances_})\n",
        "print(clf.feature_importances_)"
      ],
      "execution_count": 0,
      "outputs": [
        {
          "output_type": "stream",
          "text": [
            "/usr/local/lib/python3.6/dist-packages/ipykernel_launcher.py:3: DataConversionWarning: A column-vector y was passed when a 1d array was expected. Please change the shape of y to (n_samples,), for example using ravel().\n",
            "  This is separate from the ipykernel package so we can avoid doing imports until\n",
            "[Parallel(n_jobs=-1)]: Using backend ThreadingBackend with 2 concurrent workers.\n",
            "[Parallel(n_jobs=-1)]: Done  32 out of  32 | elapsed: 14.8min finished\n",
            "[Parallel(n_jobs=2)]: Using backend ThreadingBackend with 2 concurrent workers.\n",
            "[Parallel(n_jobs=2)]: Done  32 out of  32 | elapsed:    4.3s finished\n"
          ],
          "name": "stderr"
        },
        {
          "output_type": "stream",
          "text": [
            "              precision    recall  f1-score   support\n",
            "\n",
            "           0       1.00      1.00      1.00    597645\n",
            "           1       0.93      0.96      0.94     33647\n",
            "\n",
            "    accuracy                           0.99    631292\n",
            "   macro avg       0.96      0.98      0.97    631292\n",
            "weighted avg       0.99      0.99      0.99    631292\n",
            "\n",
            "0.9764075878625261\n",
            "[0.06977339 0.09692358 0.07685626 0.21192319 0.01918339 0.04997119\n",
            " 0.03549196 0.01518151 0.00761114 0.04796577 0.21736929 0.15174934]\n"
          ],
          "name": "stdout"
        }
      ]
    },
    {
      "cell_type": "markdown",
      "metadata": {
        "id": "I1gXvgyn6eRS",
        "colab_type": "text"
      },
      "source": [
        "### XGBoost"
      ]
    },
    {
      "cell_type": "code",
      "metadata": {
        "id": "jYN9Ks4Dy8Uz",
        "colab_type": "code",
        "outputId": "f829f33b-9edd-408f-c4ab-028c4f013a6a",
        "colab": {
          "base_uri": "https://localhost:8080/",
          "height": 309
        }
      },
      "source": [
        "from xgboost import XGBClassifier\n",
        "clf = XGBClassifier(n_estimators=1000)\n",
        "clf.fit(X_train, y_train)\n",
        "y_true, y_pred = y_test, clf.predict(X_test)\n",
        "print(classification_report(y_true, y_pred))\n",
        "fp_rate, tp_rate, thresholds = roc_curve(y_true, y_pred)\n",
        "print(auc(fp_rate, tp_rate))\n",
        "\n",
        "feature=['btag', 'num', 'final_gender_code', 'age_level', 'pvalue_level','shopping_level', 'occupation', 'new_user_class_level_','price', 'date', 'hour']\n",
        "#rf1_imp = pd.DataFrame({'feature':feature, 'impt': clf.feature_importances_})\n",
        "print(clf.feature_importances_)"
      ],
      "execution_count": 0,
      "outputs": [
        {
          "output_type": "stream",
          "text": [
            "/usr/local/lib/python3.6/dist-packages/sklearn/preprocessing/_label.py:235: DataConversionWarning: A column-vector y was passed when a 1d array was expected. Please change the shape of y to (n_samples, ), for example using ravel().\n",
            "  y = column_or_1d(y, warn=True)\n",
            "/usr/local/lib/python3.6/dist-packages/sklearn/preprocessing/_label.py:268: DataConversionWarning: A column-vector y was passed when a 1d array was expected. Please change the shape of y to (n_samples, ), for example using ravel().\n",
            "  y = column_or_1d(y, warn=True)\n"
          ],
          "name": "stderr"
        },
        {
          "output_type": "stream",
          "text": [
            "              precision    recall  f1-score   support\n",
            "\n",
            "           0       0.97      0.68      0.80    597645\n",
            "           1       0.09      0.58      0.16     33647\n",
            "\n",
            "    accuracy                           0.68    631292\n",
            "   macro avg       0.53      0.63      0.48    631292\n",
            "weighted avg       0.92      0.68      0.77    631292\n",
            "\n",
            "0.6340237021088525\n",
            "[0.05181557 0.04617488 0.05458047 0.05352324 0.13563816 0.0902473\n",
            " 0.13704966 0.10345595 0.10393994 0.14008057 0.04219087 0.04130344]\n"
          ],
          "name": "stdout"
        }
      ]
    },
    {
      "cell_type": "code",
      "metadata": {
        "id": "lOgEZ-3K7Ovu",
        "colab_type": "code",
        "colab": {}
      },
      "source": [
        ""
      ],
      "execution_count": 0,
      "outputs": []
    }
  ]
}